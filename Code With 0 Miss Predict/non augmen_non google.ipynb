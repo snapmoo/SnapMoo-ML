{
  "cells": [
    {
      "cell_type": "markdown",
      "metadata": {
        "id": "NV6hsZ-Ql4l2"
      },
      "source": [
        "#Build CNN Model"
      ]
    },
    {
      "cell_type": "code",
      "execution_count": 9,
      "metadata": {
        "id": "q0tg9bNPWS3J"
      },
      "outputs": [],
      "source": [
        "from tensorflow.keras.preprocessing.image import ImageDataGenerator\n",
        "from tensorflow.keras.models import Sequential\n",
        "from tensorflow.keras.layers import Conv2D, MaxPooling2D, Flatten, Dense, Dropout\n",
        "from tensorflow.keras.optimizers import RMSprop\n",
        "from IPython.display import display, clear_output, HTML\n",
        "from PIL import Image\n",
        "from tensorflow.keras import regularizers\n",
        "import os\n",
        "import requests\n",
        "import zipfile\n",
        "import io\n",
        "import ipywidgets as widgets\n",
        "import matplotlib.pyplot as plt\n",
        "import tensorflow as tf\n",
        "import numpy as np\n"
      ]
    },
    {
      "cell_type": "markdown",
      "metadata": {
        "id": "t55tLxXg2wOx"
      },
      "source": [
        "load data augmentasi dari GitHub"
      ]
    },
    {
      "cell_type": "code",
      "execution_count": 10,
      "metadata": {
        "id": "dIxyhvU220Hp",
        "colab": {
          "base_uri": "https://localhost:8080/"
        },
        "outputId": "5ede5b1d-e9a7-4a9e-9f9e-3e27fb8c93ee"
      },
      "outputs": [
        {
          "output_type": "stream",
          "name": "stdout",
          "text": [
            "Extraction complete.\n",
            "Extracted files: ['test', 'train', 'validation']\n"
          ]
        }
      ],
      "source": [
        "# Retrieve data from GitHub and ccreate a temporary path\n",
        "zip_url = \"https://github.com/snapmoo/ML-Dataset/raw/main/FMD_Cattle_Dataset.zip\"\n",
        "zip_path = \"/content/FMD_Cattle.zip\"\n",
        "\n",
        "# Download the zip file\n",
        "response = requests.get(zip_url, stream=True)\n",
        "with open(zip_path, 'wb') as f:\n",
        "    for chunk in response.iter_content(chunk_size=8192):\n",
        "        if chunk:\n",
        "            f.write(chunk)\n",
        "\n",
        "# Extract the downloaded Zip file\n",
        "extract_dir = \"/content/FMD_Cattle\"\n",
        "with zipfile.ZipFile(zip_path, 'r') as zip_ref:\n",
        "    zip_ref.extractall(extract_dir)\n",
        "\n",
        "print(\"Extraction complete.\")\n",
        "\n",
        "# List the files in the extracted directory to verify\n",
        "extracted_files = os.listdir(extract_dir)\n",
        "print(\"Extracted files:\", extracted_files)\n",
        "\n",
        "base_dir = extract_dir"
      ]
    },
    {
      "cell_type": "markdown",
      "metadata": {
        "id": "VD2LDhvy4SXD"
      },
      "source": [
        "Membuat generator train dan validation"
      ]
    },
    {
      "cell_type": "code",
      "execution_count": 11,
      "metadata": {
        "colab": {
          "base_uri": "https://localhost:8080/"
        },
        "id": "R-8RCitS4Uh8",
        "outputId": "e36688b6-c3e7-4db2-81ad-2c9d5d8679b1"
      },
      "outputs": [
        {
          "output_type": "stream",
          "name": "stdout",
          "text": [
            "Train directory exists: True\n",
            "Validation directory exists: True\n",
            "Test directory exists: True\n",
            "Found 211 images belonging to 2 classes.\n",
            "Found 45 images belonging to 2 classes.\n",
            "Found 47 images belonging to 2 classes.\n",
            "Shape of training data batch: (32, 224, 224, 3)\n",
            "Shape of training labels batch: (32,)\n",
            "Shape of validation data batch: (32, 224, 224, 3)\n",
            "Shape of validation labels batch: (32,)\n"
          ]
        }
      ],
      "source": [
        "# Define the directories for training, validation, and test sets\n",
        "train_dir = os.path.join(base_dir, 'train')\n",
        "validation_dir = os.path.join(base_dir, 'validation')\n",
        "test_dir = os.path.join(base_dir, 'test')\n",
        "\n",
        "# Check if the directories exist\n",
        "print(f\"Train directory exists: {os.path.exists(train_dir)}\")\n",
        "print(f\"Validation directory exists: {os.path.exists(validation_dir)}\")\n",
        "print(f\"Test directory exists: {os.path.exists(test_dir)}\")\n",
        "\n",
        "# Proceed if the train and validation directories exist\n",
        "if os.path.exists(train_dir) and os.path.exists(validation_dir):\n",
        "    # Data augmentation and rescaling for training\n",
        "    train_datagen = ImageDataGenerator(\n",
        "        rescale=1./255,\n",
        "        rotation_range=40,\n",
        "        width_shift_range=0.2,\n",
        "        height_shift_range=0.2,\n",
        "        shear_range=0.2,\n",
        "        zoom_range=0.2,\n",
        "        horizontal_flip=True,\n",
        "        fill_mode='nearest'\n",
        "    )\n",
        "\n",
        "    # Only rescaling for validation\n",
        "    validation_datagen = ImageDataGenerator(\n",
        "        rescale=1./255\n",
        "    )\n",
        "\n",
        "    test_datagen = ImageDataGenerator(\n",
        "        rescale=1./255\n",
        "    )\n",
        "\n",
        "    # Create generators\n",
        "    train_generator = train_datagen.flow_from_directory(\n",
        "        train_dir,\n",
        "        target_size=(224, 224),\n",
        "        batch_size=32,\n",
        "        class_mode='binary'\n",
        "    )\n",
        "\n",
        "    validation_generator = validation_datagen.flow_from_directory(\n",
        "        validation_dir,\n",
        "        target_size=(224, 224),\n",
        "        batch_size=32,\n",
        "        class_mode='binary'\n",
        "    )\n",
        "\n",
        "    test_generator = test_datagen.flow_from_directory(\n",
        "        test_dir,\n",
        "        target_size=(224, 224),\n",
        "        batch_size=32,\n",
        "        class_mode='binary'\n",
        "    )\n",
        "    # Debug: Check the first batch of training data\n",
        "    x_batch, y_batch = next(train_generator)\n",
        "    print(\"Shape of training data batch:\", x_batch.shape)\n",
        "    print(\"Shape of training labels batch:\", y_batch.shape)\n",
        "\n",
        "    # Debug: Check the first batch of validation data\n",
        "    x_val_batch, y_val_batch = next(validation_generator)\n",
        "    print(\"Shape of validation data batch:\", x_val_batch.shape)\n",
        "    print(\"Shape of validation labels batch:\", y_val_batch.shape)\n",
        "else:\n",
        "    print(\"Train or validation directory does not exist. Please check the dataset structure.\")"
      ]
    },
    {
      "cell_type": "markdown",
      "metadata": {
        "id": "aGDL9Dgv4dQm"
      },
      "source": [
        "Membangun Model CNN"
      ]
    },
    {
      "cell_type": "code",
      "execution_count": 13,
      "metadata": {
        "colab": {
          "base_uri": "https://localhost:8080/"
        },
        "id": "hsSJqpVw4ffS",
        "outputId": "391b70e5-a5b5-4321-a557-0a37265abf8b"
      },
      "outputs": [
        {
          "output_type": "stream",
          "name": "stdout",
          "text": [
            "Epoch 1/50\n",
            "6/6 [==============================] - 4s 438ms/step - loss: 3.4239 - accuracy: 0.5417 - val_loss: 2.3078 - val_accuracy: 0.5000\n",
            "Epoch 2/50\n",
            "6/6 [==============================] - 4s 613ms/step - loss: 1.3481 - accuracy: 0.6592 - val_loss: 1.9800 - val_accuracy: 0.5938\n",
            "Epoch 3/50\n",
            "6/6 [==============================] - 2s 394ms/step - loss: 1.4269 - accuracy: 0.6983 - val_loss: 0.3382 - val_accuracy: 0.8438\n",
            "Epoch 4/50\n",
            "6/6 [==============================] - 3s 421ms/step - loss: 0.6516 - accuracy: 0.8045 - val_loss: 0.1438 - val_accuracy: 0.8750\n",
            "Epoch 5/50\n",
            "6/6 [==============================] - 3s 427ms/step - loss: 0.7633 - accuracy: 0.7821 - val_loss: 0.1577 - val_accuracy: 0.9062\n",
            "Epoch 6/50\n",
            "6/6 [==============================] - 3s 404ms/step - loss: 0.4847 - accuracy: 0.8436 - val_loss: 0.1391 - val_accuracy: 0.9062\n",
            "Epoch 7/50\n",
            "6/6 [==============================] - 3s 420ms/step - loss: 0.4093 - accuracy: 0.8380 - val_loss: 0.1487 - val_accuracy: 0.9062\n",
            "Epoch 8/50\n",
            "6/6 [==============================] - 3s 527ms/step - loss: 0.3306 - accuracy: 0.8646 - val_loss: 0.1214 - val_accuracy: 0.9688\n",
            "Epoch 9/50\n",
            "6/6 [==============================] - 3s 423ms/step - loss: 0.4263 - accuracy: 0.8324 - val_loss: 0.1926 - val_accuracy: 0.8750\n",
            "Epoch 10/50\n",
            "6/6 [==============================] - 3s 403ms/step - loss: 0.3189 - accuracy: 0.8659 - val_loss: 0.1574 - val_accuracy: 0.9375\n",
            "Epoch 11/50\n",
            "6/6 [==============================] - 3s 578ms/step - loss: 0.3025 - accuracy: 0.8715 - val_loss: 0.2148 - val_accuracy: 0.8750\n",
            "Epoch 12/50\n",
            "6/6 [==============================] - 3s 470ms/step - loss: 0.3413 - accuracy: 0.8603 - val_loss: 0.2435 - val_accuracy: 0.8438\n",
            "Epoch 13/50\n",
            "6/6 [==============================] - 3s 455ms/step - loss: 0.3497 - accuracy: 0.8333 - val_loss: 0.2585 - val_accuracy: 0.9062\n",
            "Epoch 14/50\n",
            "6/6 [==============================] - 2s 404ms/step - loss: 0.3170 - accuracy: 0.8715 - val_loss: 0.2003 - val_accuracy: 0.9375\n",
            "Epoch 15/50\n",
            "6/6 [==============================] - 3s 409ms/step - loss: 0.3181 - accuracy: 0.8827 - val_loss: 0.1643 - val_accuracy: 0.9062\n",
            "Epoch 16/50\n",
            "6/6 [==============================] - 4s 553ms/step - loss: 0.3133 - accuracy: 0.8603 - val_loss: 0.2299 - val_accuracy: 0.9062\n",
            "Epoch 17/50\n",
            "6/6 [==============================] - 2s 405ms/step - loss: 0.1910 - accuracy: 0.9330 - val_loss: 0.1187 - val_accuracy: 0.9688\n",
            "Epoch 18/50\n",
            "6/6 [==============================] - 3s 454ms/step - loss: 0.2761 - accuracy: 0.8802 - val_loss: 0.2016 - val_accuracy: 0.9688\n",
            "Epoch 19/50\n",
            "6/6 [==============================] - 3s 561ms/step - loss: 0.2504 - accuracy: 0.9050 - val_loss: 0.1658 - val_accuracy: 0.9375\n",
            "Epoch 20/50\n",
            "6/6 [==============================] - 4s 630ms/step - loss: 0.2475 - accuracy: 0.8994 - val_loss: 0.1823 - val_accuracy: 0.9375\n",
            "Epoch 21/50\n",
            "6/6 [==============================] - 2s 394ms/step - loss: 0.2288 - accuracy: 0.9050 - val_loss: 0.3298 - val_accuracy: 0.8750\n",
            "Epoch 22/50\n",
            "6/6 [==============================] - 3s 468ms/step - loss: 0.2089 - accuracy: 0.9062 - val_loss: 0.1194 - val_accuracy: 0.9688\n",
            "Epoch 23/50\n",
            "6/6 [==============================] - 3s 428ms/step - loss: 0.1543 - accuracy: 0.9385 - val_loss: 0.2149 - val_accuracy: 0.9375\n",
            "Epoch 24/50\n",
            "6/6 [==============================] - 3s 434ms/step - loss: 0.1695 - accuracy: 0.9385 - val_loss: 0.1003 - val_accuracy: 0.9375\n",
            "Epoch 25/50\n",
            "6/6 [==============================] - 3s 417ms/step - loss: 0.2362 - accuracy: 0.8994 - val_loss: 0.1563 - val_accuracy: 0.9688\n",
            "Epoch 26/50\n",
            "6/6 [==============================] - 3s 434ms/step - loss: 0.1000 - accuracy: 0.9553 - val_loss: 0.1240 - val_accuracy: 0.9375\n",
            "Epoch 27/50\n",
            "6/6 [==============================] - 3s 422ms/step - loss: 0.2288 - accuracy: 0.9050 - val_loss: 0.1407 - val_accuracy: 0.9062\n",
            "Epoch 28/50\n",
            "6/6 [==============================] - 3s 430ms/step - loss: 0.2095 - accuracy: 0.8939 - val_loss: 0.1857 - val_accuracy: 0.9375\n",
            "Epoch 29/50\n",
            "6/6 [==============================] - 3s 441ms/step - loss: 0.1511 - accuracy: 0.9385 - val_loss: 0.2459 - val_accuracy: 0.9375\n",
            "Epoch 30/50\n",
            "6/6 [==============================] - 3s 434ms/step - loss: 0.1649 - accuracy: 0.9274 - val_loss: 0.2073 - val_accuracy: 0.9375\n",
            "Epoch 31/50\n",
            "6/6 [==============================] - 2s 398ms/step - loss: 0.1536 - accuracy: 0.9218 - val_loss: 0.2040 - val_accuracy: 0.9375\n",
            "Epoch 32/50\n",
            "6/6 [==============================] - 3s 549ms/step - loss: 0.2321 - accuracy: 0.9050 - val_loss: 0.1460 - val_accuracy: 0.9688\n",
            "Epoch 33/50\n",
            "6/6 [==============================] - 4s 576ms/step - loss: 0.1656 - accuracy: 0.9330 - val_loss: 0.2033 - val_accuracy: 0.9062\n",
            "Epoch 34/50\n",
            "6/6 [==============================] - 2s 439ms/step - loss: 0.2289 - accuracy: 0.9050 - val_loss: 0.1733 - val_accuracy: 0.9688\n",
            "Epoch 35/50\n",
            "6/6 [==============================] - 2s 396ms/step - loss: 0.1832 - accuracy: 0.9330 - val_loss: 0.2187 - val_accuracy: 0.8750\n",
            "Epoch 36/50\n",
            "6/6 [==============================] - 2s 396ms/step - loss: 0.1793 - accuracy: 0.9330 - val_loss: 0.1493 - val_accuracy: 0.9062\n",
            "Epoch 37/50\n",
            "6/6 [==============================] - 3s 561ms/step - loss: 0.1958 - accuracy: 0.9162 - val_loss: 0.2060 - val_accuracy: 0.9375\n",
            "Epoch 38/50\n",
            "6/6 [==============================] - 3s 433ms/step - loss: 0.1874 - accuracy: 0.9106 - val_loss: 0.0919 - val_accuracy: 0.9688\n",
            "Epoch 39/50\n",
            "6/6 [==============================] - 3s 418ms/step - loss: 0.1340 - accuracy: 0.9441 - val_loss: 0.1829 - val_accuracy: 0.9375\n",
            "Epoch 40/50\n",
            "6/6 [==============================] - 3s 420ms/step - loss: 0.1513 - accuracy: 0.9441 - val_loss: 0.0478 - val_accuracy: 1.0000\n",
            "Epoch 41/50\n",
            "6/6 [==============================] - 2s 424ms/step - loss: 0.1637 - accuracy: 0.9330 - val_loss: 0.0284 - val_accuracy: 1.0000\n",
            "Epoch 42/50\n",
            "6/6 [==============================] - 3s 459ms/step - loss: 0.1626 - accuracy: 0.9385 - val_loss: 0.1766 - val_accuracy: 0.9375\n",
            "Epoch 43/50\n",
            "6/6 [==============================] - 4s 579ms/step - loss: 0.1393 - accuracy: 0.9479 - val_loss: 0.1661 - val_accuracy: 0.9375\n",
            "Epoch 44/50\n",
            "6/6 [==============================] - 2s 398ms/step - loss: 0.1758 - accuracy: 0.9274 - val_loss: 0.0770 - val_accuracy: 0.9688\n",
            "Epoch 45/50\n",
            "6/6 [==============================] - 2s 391ms/step - loss: 0.1721 - accuracy: 0.9274 - val_loss: 0.2074 - val_accuracy: 0.9375\n",
            "Epoch 46/50\n",
            "6/6 [==============================] - 3s 458ms/step - loss: 0.1727 - accuracy: 0.9330 - val_loss: 0.0537 - val_accuracy: 1.0000\n",
            "Epoch 47/50\n",
            "6/6 [==============================] - 3s 602ms/step - loss: 0.1872 - accuracy: 0.9106 - val_loss: 0.1375 - val_accuracy: 0.9688\n",
            "Epoch 48/50\n",
            "6/6 [==============================] - 3s 418ms/step - loss: 0.1702 - accuracy: 0.9330 - val_loss: 0.1986 - val_accuracy: 0.9375\n",
            "Epoch 49/50\n",
            "6/6 [==============================] - 3s 404ms/step - loss: 0.1753 - accuracy: 0.9162 - val_loss: 0.1748 - val_accuracy: 0.9062\n",
            "Epoch 50/50\n",
            "6/6 [==============================] - 3s 428ms/step - loss: 0.1435 - accuracy: 0.9777 - val_loss: 0.1048 - val_accuracy: 0.9688\n"
          ]
        }
      ],
      "source": [
        "from keras.applications import VGG16\n",
        "from keras.models import Model, Sequential\n",
        "from keras.layers import Flatten, Dense, Dropout, GlobalAveragePooling2D\n",
        "from keras import regularizers\n",
        "from keras.optimizers import Adam\n",
        "from keras.preprocessing.image import ImageDataGenerator\n",
        "from keras.callbacks import EarlyStopping, ModelCheckpoint\n",
        "\n",
        "# Memuat model dasar VGG16 tanpa lapisan atas (include_top=False)\n",
        "base_model = VGG16(weights='imagenet', include_top=False, input_shape=(224, 224, 3))\n",
        "\n",
        "# Membekukan lapisan-lapisan dari model dasar\n",
        "for layer in base_model.layers:\n",
        "    layer.trainable = False\n",
        "\n",
        "# Membuat model baru dengan menambahkan lapisan-lapisan di atas model dasar\n",
        "model = Sequential()\n",
        "model.add(base_model)\n",
        "model.add(Flatten())\n",
        "model.add(Dense(512, activation='relu'))\n",
        "model.add(Dropout(0.5))\n",
        "model.add(Dense(1, activation='sigmoid'))\n",
        "\n",
        "# Kompilasi model\n",
        "optimizer = Adam(learning_rate=0.001)\n",
        "model.compile(loss='binary_crossentropy',\n",
        "              optimizer=optimizer,\n",
        "              metrics=['accuracy'])\n",
        "\n",
        "# Callbacks untuk early stopping dan model checkpoint\n",
        "\n",
        "\n",
        "\n",
        "# Pelatihan model\n",
        "history = model.fit(\n",
        "    train_generator,\n",
        "    steps_per_epoch=train_generator.samples // train_generator.batch_size,\n",
        "    epochs=50,\n",
        "    validation_data=validation_generator,\n",
        "    validation_steps=validation_generator.samples // validation_generator.batch_size\n",
        ")\n"
      ]
    },
    {
      "cell_type": "code",
      "execution_count": 16,
      "metadata": {
        "id": "VAUbYSnq0ihI",
        "colab": {
          "base_uri": "https://localhost:8080/",
          "height": 403
        },
        "outputId": "b752446e-1157-48e6-86f1-97ff892ec213"
      },
      "outputs": [
        {
          "output_type": "display_data",
          "data": {
            "text/plain": [
              "<Figure size 1200x400 with 2 Axes>"
            ],
            "image/png": "[encoded data removed]"
          },
          "metadata": {}
        }
      ],
      "source": [
        "plt.figure(figsize=(12, 4))\n",
        "\n",
        "plt.subplot(1, 2, 1)\n",
        "plt.plot(history.history['accuracy'])\n",
        "plt.plot(history.history['val_accuracy'])\n",
        "plt.title('Model Accuracy')\n",
        "plt.xlabel('Epoch')\n",
        "plt.ylabel('Accuracy')\n",
        "plt.legend(['Train', 'Validation'], loc='upper left')\n",
        "\n",
        "\n",
        "plt.subplot(1, 2, 2)\n",
        "plt.plot(history.history['loss'])\n",
        "plt.plot(history.history['val_loss'])\n",
        "plt.title('Model Loss')\n",
        "plt.xlabel('Epoch')\n",
        "plt.ylabel('Loss')\n",
        "plt.legend(['Train', 'Validation'], loc='upper left')\n",
        "\n",
        "plt.tight_layout()\n",
        "plt.show()"
      ]
    },
    {
      "cell_type": "markdown",
      "metadata": {
        "id": "oUAeGLuUJMha"
      },
      "source": [
        "predict"
      ]
    },
    {
      "cell_type": "code",
      "source": [
        "def on_upload_change(change):\n",
        "    clear_output(wait=True)\n",
        "\n",
        "    # Proses file yang diunggah\n",
        "    if change['new']:\n",
        "        for name, file_info in change['new'].items():\n",
        "            file_content = file_info['content']\n",
        "            img = Image.open(io.BytesIO(file_content))\n",
        "\n",
        "            # Tampilkan gambar yang diunggah\n",
        "            display(HTML(\"<h3>Uploaded Image:</h3>\"))\n",
        "            display(widgets.Image(value=file_content, format='jpg'))\n",
        "\n",
        "            # Prediksi gambar\n",
        "            pmk_label, pmk_confidence= process_and_predict(img)\n",
        "\n",
        "            if pmk_label is None:\n",
        "                display(HTML('<p style=\"color:red;\">Error processing the image.</p>'))\n",
        "            else:\n",
        "                display(HTML(f\"<h3>Prediction Result:</h3>\"))\n",
        "                display(HTML(f\"<p>PMK Prediction: <strong>{pmk_label}</strong> ({pmk_confidence * 100:.2f}% confidence)</p>\"))\n"
      ],
      "metadata": {
        "id": "PuYypdnpVyIl"
      },
      "execution_count": 8,
      "outputs": []
    },
    {
      "cell_type": "code",
      "source": [
        "def process_and_predict(image):\n",
        "    try:\n",
        "        # Resize dan preprocess gambar\n",
        "        img = image.resize((224, 224))\n",
        "        img_array = np.array(img) / 255.0\n",
        "        img_array = np.expand_dims(img_array, axis=0)\n",
        "\n",
        "        # Lakukan prediksi\n",
        "        predictions = model.predict(img_array)\n",
        "\n",
        "        # Debug print untuk memeriksa prediksi mentah\n",
        "        print(\"Predictions:\", predictions)\n",
        "\n",
        "        # Prediksi PMK\n",
        "        pmk_pred = predictions[0][0]\n",
        "        pmk_label = 'Terkena PMK' if pmk_pred > 0.5 else 'Tidak terkena PMK'\n",
        "        pmk_confidence = pmk_pred if pmk_pred > 0.5 else 1 - pmk_pred\n",
        "\n",
        "        return pmk_label, float(pmk_confidence)\n",
        "    except Exception as e:\n",
        "        print(f\"Error: {e}\")\n",
        "        return None, None"
      ],
      "metadata": {
        "id": "CGVTq5nsVv19"
      },
      "execution_count": 9,
      "outputs": []
    },
    {
      "cell_type": "code",
      "source": [
        "upload_widget = widgets.FileUpload(accept='image/*', multiple=False)\n",
        "upload_widget.observe(on_upload_change, names='value')\n",
        "\n",
        "display(HTML(\"<h2>Upload Image to Predict PMK and Body Part</h2>\"))\n",
        "display(upload_widget)"
      ],
      "metadata": {
        "colab": {
          "base_uri": "https://localhost:8080/",
          "height": 679,
          "referenced_widgets": [
            "e62bbcf508234b0ab5bd6edcba2ee145",
            "243fa2626b834aafa4f4c7667bff5cc5",
            "17856fddd07a449b9213469c3d0ae346",
            "abfe0428d48540b4aad171e5200835a2",
            "7bb7f314ab734ea3bed286f6ba7d8202"
          ]
        },
        "id": "jF6pngnXV026",
        "outputId": "71256de9-c8ca-493c-f46d-5ef62248d8fc"
      },
      "execution_count": 18,
      "outputs": [
        {
          "output_type": "display_data",
          "data": {
            "text/plain": [
              "<IPython.core.display.HTML object>"
            ],
            "text/html": [
              "<h3>Uploaded Image:</h3>"
            ]
          },
          "metadata": {}
        },
        {
          "output_type": "display_data",
          "data": {
            "text/plain": [
              "Image(value=b'\\xff\\xd8\\xff\\xe0\\x00\\x10JFIF\\x00\\x01\\x01\\x01\\x01,\\x01,\\x00\\x00\\xff\\xed\\x01\\xb0Photoshop 3.0\\x008…"
            ],
            "application/vnd.jupyter.widget-view+json": {
              "version_major": 2,
              "version_minor": 0,
              "model_id": "abfe0428d48540b4aad171e5200835a2"
            }
          },
          "metadata": {}
        },
        {
          "output_type": "stream",
          "name": "stdout",
          "text": [
            "1/1 [==============================] - 0s 20ms/step\n",
            "Predictions: [[7.115068e-06]]\n"
          ]
        },
        {
          "output_type": "display_data",
          "data": {
            "text/plain": [
              "<IPython.core.display.HTML object>"
            ],
            "text/html": [
              "<h3>Prediction Result:</h3>"
            ]
          },
          "metadata": {}
        },
        {
          "output_type": "display_data",
          "data": {
            "text/plain": [
              "<IPython.core.display.HTML object>"
            ],
            "text/html": [
              "<p>PMK Prediction: <strong>Tidak terkena PMK</strong> (100.00% confidence)</p>"
            ]
          },
          "metadata": {}
        }
      ]
    },
    {
      "cell_type": "code",
      "source": [
        "import os\n",
        "from keras.preprocessing.image import load_img, img_to_array\n",
        "\n",
        "def process_and_predict(image_path):\n",
        "    try:\n",
        "        # Load dan resize gambar\n",
        "        img = load_img(image_path, target_size=(224, 224))\n",
        "        img_array = img_to_array(img) / 255.0\n",
        "        img_array = np.expand_dims(img_array, axis=0)\n",
        "\n",
        "        # Lakukan prediksi\n",
        "        predictions = model.predict(img_array)\n",
        "\n",
        "        # Prediksi PMK\n",
        "        pmk_pred = predictions[0][0]\n",
        "        pmk_label = 'Terkena PMK' if pmk_pred > 0.5 else 'Tidak terkena PMK'\n",
        "        pmk_confidence = pmk_pred if pmk_pred > 0.5 else 1 - pmk_pred\n",
        "\n",
        "        return pmk_label, float(pmk_confidence)\n",
        "    except Exception as e:\n",
        "        print(f\"Error: {e}\")\n",
        "        return None, None\n",
        "\n",
        "# Predict all images in the test folder\n",
        "test_folder = os.path.dirname(test_generator.filepaths[0])  # Assuming all images are in the same directory\n",
        "image_files = test_generator.filepaths\n",
        "\n",
        "for image_file in image_files:\n",
        "    label, confidence = process_and_predict(image_file)\n",
        "    print(f\"File: {image_file} - Predicted: {label} with confidence: {confidence}\")\n"
      ],
      "metadata": {
        "id": "EPonwWpVV1Vf",
        "colab": {
          "base_uri": "https://localhost:8080/"
        },
        "outputId": "1c6bed62-e560-4b98-a364-f01a106fdb24"
      },
      "execution_count": 15,
      "outputs": [
        {
          "output_type": "stream",
          "name": "stdout",
          "text": [
            "1/1 [==============================] - 0s 131ms/step\n",
            "File: /content/FMD_Cattle/test/0/img126.jpeg - Predicted: Tidak terkena PMK with confidence: 0.9997643746901304\n",
            "1/1 [==============================] - 0s 17ms/step\n",
            "File: /content/FMD_Cattle/test/0/img127.jpeg - Predicted: Tidak terkena PMK with confidence: 0.9956975001841784\n",
            "1/1 [==============================] - 0s 17ms/step\n",
            "File: /content/FMD_Cattle/test/0/img128.jpeg - Predicted: Tidak terkena PMK with confidence: 0.9703698717057705\n",
            "1/1 [==============================] - 0s 19ms/step\n",
            "File: /content/FMD_Cattle/test/0/img129.jpeg - Predicted: Tidak terkena PMK with confidence: 0.9990953170345165\n",
            "1/1 [==============================] - 0s 24ms/step\n",
            "File: /content/FMD_Cattle/test/0/img130.jpeg - Predicted: Tidak terkena PMK with confidence: 0.9999965863225952\n",
            "1/1 [==============================] - 0s 18ms/step\n",
            "File: /content/FMD_Cattle/test/0/img131.jpeg - Predicted: Tidak terkena PMK with confidence: 0.9918814906850457\n",
            "1/1 [==============================] - 0s 18ms/step\n",
            "File: /content/FMD_Cattle/test/0/img132.jpeg - Predicted: Tidak terkena PMK with confidence: 0.99842781026382\n",
            "1/1 [==============================] - 0s 25ms/step\n",
            "File: /content/FMD_Cattle/test/0/img133.jpeg - Predicted: Tidak terkena PMK with confidence: 0.9818694032728672\n",
            "1/1 [==============================] - 0s 18ms/step\n",
            "File: /content/FMD_Cattle/test/0/img134.jpeg - Predicted: Tidak terkena PMK with confidence: 0.9553847834467888\n",
            "1/1 [==============================] - 0s 21ms/step\n",
            "File: /content/FMD_Cattle/test/0/img135.jpeg - Predicted: Tidak terkena PMK with confidence: 0.713890552520752\n",
            "1/1 [==============================] - 0s 18ms/step\n",
            "File: /content/FMD_Cattle/test/0/img136.jpeg - Predicted: Tidak terkena PMK with confidence: 0.6865428984165192\n",
            "1/1 [==============================] - 0s 19ms/step\n",
            "File: /content/FMD_Cattle/test/0/img137.jpeg - Predicted: Tidak terkena PMK with confidence: 0.7449597418308258\n",
            "1/1 [==============================] - 0s 18ms/step\n",
            "File: /content/FMD_Cattle/test/0/img138.jpeg - Predicted: Tidak terkena PMK with confidence: 0.9999770259400975\n",
            "1/1 [==============================] - 0s 20ms/step\n",
            "File: /content/FMD_Cattle/test/0/img139.jpeg - Predicted: Tidak terkena PMK with confidence: 0.9960426702164114\n",
            "1/1 [==============================] - 0s 20ms/step\n",
            "File: /content/FMD_Cattle/test/0/img140.jpeg - Predicted: Tidak terkena PMK with confidence: 0.9937901799567044\n",
            "1/1 [==============================] - 0s 23ms/step\n",
            "File: /content/FMD_Cattle/test/0/img141.jpeg - Predicted: Tidak terkena PMK with confidence: 0.9987251826096326\n",
            "1/1 [==============================] - 0s 20ms/step\n",
            "File: /content/FMD_Cattle/test/0/img142.jpeg - Predicted: Tidak terkena PMK with confidence: 0.9583973698318005\n",
            "1/1 [==============================] - 0s 18ms/step\n",
            "File: /content/FMD_Cattle/test/0/img143.jpeg - Predicted: Tidak terkena PMK with confidence: 0.9999958093130772\n",
            "1/1 [==============================] - 0s 18ms/step\n",
            "File: /content/FMD_Cattle/test/0/img144.jpeg - Predicted: Tidak terkena PMK with confidence: 0.9996659058961086\n",
            "1/1 [==============================] - 0s 19ms/step\n",
            "File: /content/FMD_Cattle/test/0/img145.jpeg - Predicted: Tidak terkena PMK with confidence: 0.9999981131757067\n",
            "1/1 [==============================] - 0s 20ms/step\n",
            "File: /content/FMD_Cattle/test/0/img146.jpeg - Predicted: Tidak terkena PMK with confidence: 0.9999980024699653\n",
            "1/1 [==============================] - 0s 20ms/step\n",
            "File: /content/FMD_Cattle/test/0/img147.jpeg - Predicted: Tidak terkena PMK with confidence: 0.9978780781384557\n",
            "1/1 [==============================] - 0s 21ms/step\n",
            "File: /content/FMD_Cattle/test/0/img148.jpeg - Predicted: Tidak terkena PMK with confidence: 0.9999706510370743\n",
            "1/1 [==============================] - 0s 20ms/step\n",
            "File: /content/FMD_Cattle/test/1/img280.jpeg - Predicted: Terkena PMK with confidence: 0.7720277309417725\n",
            "1/1 [==============================] - 0s 20ms/step\n",
            "File: /content/FMD_Cattle/test/1/img281.jpeg - Predicted: Terkena PMK with confidence: 0.9970337152481079\n",
            "1/1 [==============================] - 0s 20ms/step\n",
            "File: /content/FMD_Cattle/test/1/img282.jpeg - Predicted: Terkena PMK with confidence: 0.9987499713897705\n",
            "1/1 [==============================] - 0s 18ms/step\n",
            "File: /content/FMD_Cattle/test/1/img283.jpeg - Predicted: Terkena PMK with confidence: 0.9919189810752869\n",
            "1/1 [==============================] - 0s 18ms/step\n",
            "File: /content/FMD_Cattle/test/1/img284.jpeg - Predicted: Terkena PMK with confidence: 0.9618024230003357\n",
            "1/1 [==============================] - 0s 26ms/step\n",
            "File: /content/FMD_Cattle/test/1/img285.jpeg - Predicted: Terkena PMK with confidence: 0.5427460670471191\n",
            "1/1 [==============================] - 0s 18ms/step\n",
            "File: /content/FMD_Cattle/test/1/img286.jpeg - Predicted: Terkena PMK with confidence: 0.9761561751365662\n",
            "1/1 [==============================] - 0s 24ms/step\n",
            "File: /content/FMD_Cattle/test/1/img287.jpeg - Predicted: Terkena PMK with confidence: 0.6118961572647095\n",
            "1/1 [==============================] - 0s 18ms/step\n",
            "File: /content/FMD_Cattle/test/1/img288.jpeg - Predicted: Terkena PMK with confidence: 0.998551070690155\n",
            "1/1 [==============================] - 0s 19ms/step\n",
            "File: /content/FMD_Cattle/test/1/img289.jpeg - Predicted: Terkena PMK with confidence: 0.9470006823539734\n",
            "1/1 [==============================] - 0s 18ms/step\n",
            "File: /content/FMD_Cattle/test/1/img290.jpeg - Predicted: Terkena PMK with confidence: 0.9599802494049072\n",
            "1/1 [==============================] - 0s 18ms/step\n",
            "File: /content/FMD_Cattle/test/1/img291.jpeg - Predicted: Terkena PMK with confidence: 0.9967344403266907\n",
            "1/1 [==============================] - 0s 20ms/step\n",
            "File: /content/FMD_Cattle/test/1/img292.jpeg - Predicted: Terkena PMK with confidence: 0.8752437233924866\n",
            "1/1 [==============================] - 0s 19ms/step\n",
            "File: /content/FMD_Cattle/test/1/img293.jpeg - Predicted: Terkena PMK with confidence: 0.990931510925293\n",
            "1/1 [==============================] - 0s 21ms/step\n",
            "File: /content/FMD_Cattle/test/1/img294.jpeg - Predicted: Terkena PMK with confidence: 0.991166889667511\n",
            "1/1 [==============================] - 0s 20ms/step\n",
            "File: /content/FMD_Cattle/test/1/img295.jpeg - Predicted: Terkena PMK with confidence: 0.9673432111740112\n",
            "1/1 [==============================] - 0s 19ms/step\n",
            "File: /content/FMD_Cattle/test/1/img296.jpeg - Predicted: Terkena PMK with confidence: 0.70540851354599\n",
            "1/1 [==============================] - 0s 18ms/step\n",
            "File: /content/FMD_Cattle/test/1/img297.jpeg - Predicted: Terkena PMK with confidence: 0.7987168431282043\n",
            "1/1 [==============================] - 0s 17ms/step\n",
            "File: /content/FMD_Cattle/test/1/img298.jpeg - Predicted: Terkena PMK with confidence: 0.9919602274894714\n",
            "1/1 [==============================] - 0s 18ms/step\n",
            "File: /content/FMD_Cattle/test/1/img299.jpeg - Predicted: Terkena PMK with confidence: 0.9818572998046875\n",
            "1/1 [==============================] - 0s 18ms/step\n",
            "File: /content/FMD_Cattle/test/1/img300.jpeg - Predicted: Terkena PMK with confidence: 0.999832272529602\n",
            "1/1 [==============================] - 0s 17ms/step\n",
            "File: /content/FMD_Cattle/test/1/img301.jpeg - Predicted: Terkena PMK with confidence: 0.9754119515419006\n",
            "1/1 [==============================] - 0s 19ms/step\n",
            "File: /content/FMD_Cattle/test/1/img302.jpeg - Predicted: Terkena PMK with confidence: 0.9743384718894958\n",
            "1/1 [==============================] - 0s 18ms/step\n",
            "File: /content/FMD_Cattle/test/1/img303.jpeg - Predicted: Terkena PMK with confidence: 0.9927886128425598\n"
          ]
        }
      ]
    },
    {
      "cell_type": "code",
      "execution_count": 17,
      "metadata": {
        "id": "NabGScugxYBW",
        "colab": {
          "base_uri": "https://localhost:8080/"
        },
        "outputId": "0c3ee7b9-b77a-450c-ff52-48562b8ecd26"
      },
      "outputs": [
        {
          "output_type": "stream",
          "name": "stderr",
          "text": [
            "/usr/local/lib/python3.10/dist-packages/keras/src/engine/training.py:3103: UserWarning: You are saving your model as an HDF5 file via `model.save()`. This file format is considered legacy. We recommend using instead the native Keras format, e.g. `model.save('my_model.keras')`.\n",
            "  saving_api.save_model(\n"
          ]
        },
        {
          "output_type": "stream",
          "name": "stdout",
          "text": [
            "Model disimpan sebagai model.h5\n",
            "Model disimpan sebagai model.tflite\n",
            "Arsitektur model disimpan sebagai model.json\n"
          ]
        }
      ],
      "source": [
        "model.save('model.h5')\n",
        "print(\"Model disimpan sebagai model.h5\")\n",
        "\n",
        "# Menyimpan model dalam format TensorFlow Lite\n",
        "converter = tf.lite.TFLiteConverter.from_keras_model(model)\n",
        "tflite_model = converter.convert()\n",
        "\n",
        "tflite_model_path = 'model.tflite'\n",
        "with open(tflite_model_path, 'wb') as f:\n",
        "    f.write(tflite_model)\n",
        "print(f\"Model disimpan sebagai {tflite_model_path}\")\n",
        "\n",
        "# Menyimpan arsitektur model dalam format JSON\n",
        "model_json = model.to_json()\n",
        "json_model_path = 'model.json'\n",
        "with open(json_model_path, 'w') as json_file:\n",
        "    json_file.write(model_json)\n",
        "print(f\"Arsitektur model disimpan sebagai {json_model_path}\")"
      ]
    }
  ],
  "metadata": {
    "colab": {
      "provenance": [],
      "gpuType": "T4"
    },
    "kernelspec": {
      "display_name": "Python 3",
      "name": "python3"
    },
    "language_info": {
      "name": "python"
    },
    "widgets": {
      "application/vnd.jupyter.widget-state+json": {
        "e62bbcf508234b0ab5bd6edcba2ee145": {
          "model_module": "@jupyter-widgets/controls",
          "model_name": "FileUploadModel",
          "model_module_version": "1.5.0",
          "state": {
            "_counter": 1,
            "_dom_classes": [],
            "_model_module": "@jupyter-widgets/controls",
            "_model_module_version": "1.5.0",
            "_model_name": "FileUploadModel",
            "_view_count": null,
            "_view_module": "@jupyter-widgets/controls",
            "_view_module_version": "1.5.0",
            "_view_name": "FileUploadView",
            "accept": "image/*",
            "button_style": "",
            "data": [
              null
            ],
            "description": "Upload",
            "description_tooltip": null,
            "disabled": false,
            "error": "",
            "icon": "upload",
            "layout": "IPY_MODEL_243fa2626b834aafa4f4c7667bff5cc5",
            "metadata": [
              {
                "name": "Non-diseased muzzle 38 with tongue.jpg",
                "type": "image/jpeg",
                "size": 242067,
                "lastModified": 1718202804175
              }
            ],
            "multiple": false,
            "style": "IPY_MODEL_17856fddd07a449b9213469c3d0ae346"
          }
        },
        "243fa2626b834aafa4f4c7667bff5cc5": {
          "model_module": "@jupyter-widgets/base",
          "model_name": "LayoutModel",
          "model_module_version": "1.2.0",
          "state": {
            "_model_module": "@jupyter-widgets/base",
            "_model_module_version": "1.2.0",
            "_model_name": "LayoutModel",
            "_view_count": null,
            "_view_module": "@jupyter-widgets/base",
            "_view_module_version": "1.2.0",
            "_view_name": "LayoutView",
            "align_content": null,
            "align_items": null,
            "align_self": null,
            "border": null,
            "bottom": null,
            "display": null,
            "flex": null,
            "flex_flow": null,
            "grid_area": null,
            "grid_auto_columns": null,
            "grid_auto_flow": null,
            "grid_auto_rows": null,
            "grid_column": null,
            "grid_gap": null,
            "grid_row": null,
            "grid_template_areas": null,
            "grid_template_columns": null,
            "grid_template_rows": null,
            "height": null,
            "justify_content": null,
            "justify_items": null,
            "left": null,
            "margin": null,
            "max_height": null,
            "max_width": null,
            "min_height": null,
            "min_width": null,
            "object_fit": null,
            "object_position": null,
            "order": null,
            "overflow": null,
            "overflow_x": null,
            "overflow_y": null,
            "padding": null,
            "right": null,
            "top": null,
            "visibility": null,
            "width": null
          }
        },
        "17856fddd07a449b9213469c3d0ae346": {
          "model_module": "@jupyter-widgets/controls",
          "model_name": "ButtonStyleModel",
          "model_module_version": "1.5.0",
          "state": {
            "_model_module": "@jupyter-widgets/controls",
            "_model_module_version": "1.5.0",
            "_model_name": "ButtonStyleModel",
            "_view_count": null,
            "_view_module": "@jupyter-widgets/base",
            "_view_module_version": "1.2.0",
            "_view_name": "StyleView",
            "button_color": null,
            "font_weight": ""
          }
        },
        "abfe0428d48540b4aad171e5200835a2": {
          "model_module": "@jupyter-widgets/controls",
          "model_name": "ImageModel",
          "model_module_version": "1.5.0",
          "state": {
            "_dom_classes": [],
            "_model_module": "@jupyter-widgets/controls",
            "_model_module_version": "1.5.0",
            "_model_name": "ImageModel",
            "_view_count": null,
            "_view_module": "@jupyter-widgets/controls",
            "_view_module_version": "1.5.0",
            "_view_name": "ImageView",
            "format": "jpg",
            "height": "",
            "layout": "IPY_MODEL_7bb7f314ab734ea3bed286f6ba7d8202",
            "width": ""
          }
        },
        "7bb7f314ab734ea3bed286f6ba7d8202": {
          "model_module": "@jupyter-widgets/base",
          "model_name": "LayoutModel",
          "model_module_version": "1.2.0",
          "state": {
            "_model_module": "@jupyter-widgets/base",
            "_model_module_version": "1.2.0",
            "_model_name": "LayoutModel",
            "_view_count": null,
            "_view_module": "@jupyter-widgets/base",
            "_view_module_version": "1.2.0",
            "_view_name": "LayoutView",
            "align_content": null,
            "align_items": null,
            "align_self": null,
            "border": null,
            "bottom": null,
            "display": null,
            "flex": null,
            "flex_flow": null,
            "grid_area": null,
            "grid_auto_columns": null,
            "grid_auto_flow": null,
            "grid_auto_rows": null,
            "grid_column": null,
            "grid_gap": null,
            "grid_row": null,
            "grid_template_areas": null,
            "grid_template_columns": null,
            "grid_template_rows": null,
            "height": null,
            "justify_content": null,
            "justify_items": null,
            "left": null,
            "margin": null,
            "max_height": null,
            "max_width": null,
            "min_height": null,
            "min_width": null,
            "object_fit": null,
            "object_position": null,
            "order": null,
            "overflow": null,
            "overflow_x": null,
            "overflow_y": null,
            "padding": null,
            "right": null,
            "top": null,
            "visibility": null,
            "width": null
          }
        }
      }
    },
    "accelerator": "GPU"
  },
  "nbformat": 4,
  "nbformat_minor": 0
}