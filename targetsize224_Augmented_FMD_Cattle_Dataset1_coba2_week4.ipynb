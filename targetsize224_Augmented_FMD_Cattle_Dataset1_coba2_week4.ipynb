{
  "cells": [
    {
      "cell_type": "code",
      "execution_count": null,
      "metadata": {
        "id": "D6qouYDH0DF1"
      },
      "outputs": [],
      "source": [
        "import os\n",
        "import zipfile\n",
        "import requests\n",
        "\n",
        "# Download the dataset\n",
        "url = 'https://github.com/snapmoo/ML-Dataset/raw/main/Augmented_FMD_Cattle_Dataset1.zip'\n",
        "zip_file_path = 'Augmented_FMD_Cattle_Dataset1.zip'\n",
        "\n",
        "response = requests.get(url)\n",
        "with open(zip_file_path, 'wb') as file:\n",
        "    file.write(response.content)\n",
        "\n",
        "# Extract the dataset\n",
        "extract_to_path = 'dataset'\n",
        "with zipfile.ZipFile(zip_file_path, 'r') as zip_ref:\n",
        "    zip_ref.extractall(extract_to_path)"
      ]
    },
    {
      "cell_type": "code",
      "execution_count": null,
      "metadata": {
        "colab": {
          "base_uri": "https://localhost:8080/"
        },
        "id": "eUfaV8RQ96G6",
        "outputId": "16cfbced-7672-4a09-9cce-f45213098701"
      },
      "outputs": [
        {
          "name": "stdout",
          "output_type": "stream",
          "text": [
            "Found 1144 images belonging to 2 classes.\n",
            "Found 249 images belonging to 2 classes.\n",
            "Found 51 images belonging to 2 classes.\n"
          ]
        }
      ],
      "source": [
        "import tensorflow as tf\n",
        "from tensorflow.keras.preprocessing.image import ImageDataGenerator\n",
        "\n",
        "# Paths to train, validation, and test directories\n",
        "train_dir = os.path.join(extract_to_path, 'train')\n",
        "validation_dir = os.path.join(extract_to_path, 'validation')\n",
        "test_dir = os.path.join(extract_to_path, 'test')\n",
        "\n",
        "# Create ImageDataGenerator for training with augmentation\n",
        "train_datagen = ImageDataGenerator(\n",
        "    rescale=1.0/255,\n",
        "    rotation_range=20,\n",
        "    width_shift_range=0.2,\n",
        "    height_shift_range=0.2,\n",
        "    shear_range=0.2,\n",
        "    zoom_range=0.2,\n",
        "    horizontal_flip=True,\n",
        "    fill_mode='reflect'\n",
        ")\n",
        "validation_datagen = ImageDataGenerator(rescale=1.0/255)\n",
        "\n",
        "# Create ImageDataGenerator for test without augmentation\n",
        "test_datagen = ImageDataGenerator(rescale=1.0/255)\n",
        "\n",
        "# Load images from directories\n",
        "train_generator = train_datagen.flow_from_directory(\n",
        "    train_dir,\n",
        "    target_size=(224, 224),\n",
        "    batch_size=32,\n",
        "    class_mode='binary'\n",
        ")\n",
        "\n",
        "validation_generator = validation_datagen.flow_from_directory(\n",
        "    validation_dir,\n",
        "    target_size=(224, 224),\n",
        "    batch_size=32,\n",
        "    class_mode='binary'\n",
        ")\n",
        "\n",
        "test_generator = test_datagen.flow_from_directory(\n",
        "    test_dir,\n",
        "    target_size=(224, 224),\n",
        "    batch_size=32,\n",
        "    class_mode='binary',\n",
        "    shuffle=False\n",
        ")"
      ]
    },
    {
      "cell_type": "code",
      "execution_count": null,
      "metadata": {
        "colab": {
          "base_uri": "https://localhost:8080/"
        },
        "id": "cm_r9RKC6bQd",
        "outputId": "5086be39-601b-4dda-b82f-16694b90de15"
      },
      "outputs": [
        {
          "name": "stdout",
          "output_type": "stream",
          "text": [
            "Epoch 1/100\n",
            "35/35 [==============================] - 18s 467ms/step - loss: 1.6278 - accuracy: 0.6277 - val_loss: 0.5745 - val_accuracy: 0.7009\n",
            "Epoch 2/100\n",
            "35/35 [==============================] - 15s 430ms/step - loss: 0.4539 - accuracy: 0.7815 - val_loss: 0.3752 - val_accuracy: 0.8304\n",
            "Epoch 3/100\n",
            "35/35 [==============================] - 15s 440ms/step - loss: 0.4208 - accuracy: 0.8040 - val_loss: 0.3667 - val_accuracy: 0.8348\n",
            "Epoch 4/100\n",
            "35/35 [==============================] - 16s 456ms/step - loss: 0.3897 - accuracy: 0.8255 - val_loss: 0.3341 - val_accuracy: 0.8571\n",
            "Epoch 5/100\n",
            "35/35 [==============================] - 15s 440ms/step - loss: 0.3650 - accuracy: 0.8399 - val_loss: 0.3757 - val_accuracy: 0.8438\n",
            "Epoch 6/100\n",
            "35/35 [==============================] - 15s 437ms/step - loss: 0.3877 - accuracy: 0.8345 - val_loss: 0.2969 - val_accuracy: 0.8750\n",
            "Epoch 7/100\n",
            "35/35 [==============================] - 15s 439ms/step - loss: 0.3571 - accuracy: 0.8318 - val_loss: 0.2617 - val_accuracy: 0.8884\n",
            "Epoch 8/100\n",
            "35/35 [==============================] - 16s 442ms/step - loss: 0.3178 - accuracy: 0.8723 - val_loss: 0.5876 - val_accuracy: 0.7143\n",
            "Epoch 9/100\n",
            "35/35 [==============================] - 15s 436ms/step - loss: 0.3249 - accuracy: 0.8543 - val_loss: 0.2430 - val_accuracy: 0.8973\n",
            "Epoch 10/100\n",
            "35/35 [==============================] - 15s 439ms/step - loss: 0.3313 - accuracy: 0.8543 - val_loss: 0.2918 - val_accuracy: 0.8705\n",
            "Epoch 11/100\n",
            "35/35 [==============================] - 16s 450ms/step - loss: 0.3093 - accuracy: 0.8660 - val_loss: 0.2483 - val_accuracy: 0.9062\n",
            "Epoch 12/100\n",
            "35/35 [==============================] - 16s 443ms/step - loss: 0.3274 - accuracy: 0.8516 - val_loss: 0.4111 - val_accuracy: 0.8170\n",
            "Epoch 13/100\n",
            "35/35 [==============================] - 15s 443ms/step - loss: 0.2663 - accuracy: 0.8921 - val_loss: 0.2833 - val_accuracy: 0.8661\n",
            "Epoch 14/100\n",
            "35/35 [==============================] - 15s 432ms/step - loss: 0.3062 - accuracy: 0.8768 - val_loss: 0.3173 - val_accuracy: 0.8705\n",
            "Epoch 15/100\n",
            "35/35 [==============================] - 16s 443ms/step - loss: 0.2850 - accuracy: 0.8831 - val_loss: 0.2924 - val_accuracy: 0.8527\n",
            "Epoch 16/100\n",
            "35/35 [==============================] - 16s 451ms/step - loss: 0.2665 - accuracy: 0.8831 - val_loss: 0.2940 - val_accuracy: 0.8661\n",
            "Epoch 17/100\n",
            "35/35 [==============================] - 15s 433ms/step - loss: 0.2763 - accuracy: 0.8705 - val_loss: 0.3470 - val_accuracy: 0.8482\n",
            "Epoch 18/100\n",
            "35/35 [==============================] - 15s 434ms/step - loss: 0.2730 - accuracy: 0.8813 - val_loss: 0.2333 - val_accuracy: 0.8929\n",
            "Epoch 19/100\n",
            "35/35 [==============================] - 16s 449ms/step - loss: 0.2562 - accuracy: 0.8795 - val_loss: 0.2616 - val_accuracy: 0.8705\n",
            "Epoch 20/100\n",
            "35/35 [==============================] - 15s 439ms/step - loss: 0.2715 - accuracy: 0.8759 - val_loss: 0.2359 - val_accuracy: 0.8750\n",
            "Epoch 21/100\n",
            "35/35 [==============================] - 15s 442ms/step - loss: 0.2408 - accuracy: 0.8939 - val_loss: 0.2707 - val_accuracy: 0.8705\n",
            "Epoch 22/100\n",
            "35/35 [==============================] - 16s 449ms/step - loss: 0.2657 - accuracy: 0.8822 - val_loss: 0.3191 - val_accuracy: 0.8482\n",
            "Epoch 23/100\n",
            "35/35 [==============================] - 15s 441ms/step - loss: 0.2512 - accuracy: 0.8948 - val_loss: 0.3836 - val_accuracy: 0.8482\n",
            "Epoch 24/100\n",
            "35/35 [==============================] - 15s 441ms/step - loss: 0.2759 - accuracy: 0.8768 - val_loss: 0.3328 - val_accuracy: 0.8571\n",
            "Epoch 25/100\n",
            "35/35 [==============================] - 15s 440ms/step - loss: 0.2911 - accuracy: 0.8723 - val_loss: 0.2559 - val_accuracy: 0.9062\n",
            "Epoch 26/100\n",
            "35/35 [==============================] - 15s 439ms/step - loss: 0.2924 - accuracy: 0.8561 - val_loss: 0.2783 - val_accuracy: 0.8839\n",
            "Epoch 27/100\n",
            "35/35 [==============================] - 16s 452ms/step - loss: 0.2567 - accuracy: 0.8759 - val_loss: 0.2771 - val_accuracy: 0.8929\n",
            "Epoch 28/100\n",
            "35/35 [==============================] - 15s 437ms/step - loss: 0.2284 - accuracy: 0.8858 - val_loss: 0.2509 - val_accuracy: 0.8839\n",
            "Epoch 29/100\n",
            "35/35 [==============================] - 16s 443ms/step - loss: 0.2777 - accuracy: 0.8804 - val_loss: 0.2411 - val_accuracy: 0.9062\n",
            "Epoch 30/100\n",
            "35/35 [==============================] - 15s 434ms/step - loss: 0.2741 - accuracy: 0.8777 - val_loss: 0.3352 - val_accuracy: 0.8661\n",
            "Epoch 31/100\n",
            "35/35 [==============================] - 15s 429ms/step - loss: 0.2628 - accuracy: 0.8822 - val_loss: 0.2680 - val_accuracy: 0.8973\n",
            "Epoch 32/100\n",
            "35/35 [==============================] - 16s 442ms/step - loss: 0.2535 - accuracy: 0.8876 - val_loss: 0.2317 - val_accuracy: 0.9062\n",
            "Epoch 33/100\n",
            "35/35 [==============================] - 15s 431ms/step - loss: 0.2866 - accuracy: 0.8795 - val_loss: 0.3708 - val_accuracy: 0.8393\n",
            "Epoch 34/100\n",
            "35/35 [==============================] - 15s 434ms/step - loss: 0.2896 - accuracy: 0.8678 - val_loss: 0.2451 - val_accuracy: 0.9107\n",
            "Epoch 35/100\n",
            "35/35 [==============================] - 15s 432ms/step - loss: 0.2668 - accuracy: 0.8714 - val_loss: 0.2469 - val_accuracy: 0.9018\n",
            "Epoch 36/100\n",
            "35/35 [==============================] - 15s 439ms/step - loss: 0.2563 - accuracy: 0.8615 - val_loss: 0.2498 - val_accuracy: 0.8973\n",
            "Epoch 37/100\n",
            "35/35 [==============================] - 15s 428ms/step - loss: 0.2708 - accuracy: 0.8633 - val_loss: 0.2681 - val_accuracy: 0.8884\n",
            "Epoch 38/100\n",
            "35/35 [==============================] - 15s 440ms/step - loss: 0.2726 - accuracy: 0.8777 - val_loss: 0.2883 - val_accuracy: 0.8839\n",
            "Epoch 39/100\n",
            "35/35 [==============================] - 16s 455ms/step - loss: 0.2601 - accuracy: 0.8696 - val_loss: 0.2374 - val_accuracy: 0.9107\n",
            "Epoch 40/100\n",
            "35/35 [==============================] - 15s 430ms/step - loss: 0.2908 - accuracy: 0.8498 - val_loss: 0.3342 - val_accuracy: 0.8304\n",
            "Epoch 41/100\n",
            "35/35 [==============================] - 15s 441ms/step - loss: 0.3192 - accuracy: 0.8273 - val_loss: 0.2664 - val_accuracy: 0.8973\n",
            "Epoch 42/100\n",
            "35/35 [==============================] - 16s 445ms/step - loss: 0.2738 - accuracy: 0.8597 - val_loss: 0.2706 - val_accuracy: 0.8973\n",
            "Epoch 43/100\n",
            "35/35 [==============================] - 16s 444ms/step - loss: 0.2366 - accuracy: 0.9002 - val_loss: 0.2760 - val_accuracy: 0.8839\n",
            "Epoch 44/100\n",
            "35/35 [==============================] - 16s 444ms/step - loss: 0.2364 - accuracy: 0.8939 - val_loss: 0.2866 - val_accuracy: 0.9018\n",
            "Epoch 45/100\n",
            "35/35 [==============================] - 16s 457ms/step - loss: 0.2625 - accuracy: 0.8786 - val_loss: 0.2511 - val_accuracy: 0.8973\n",
            "Epoch 46/100\n",
            "35/35 [==============================] - 16s 442ms/step - loss: 0.2769 - accuracy: 0.8867 - val_loss: 0.2519 - val_accuracy: 0.8929\n",
            "Epoch 47/100\n",
            "35/35 [==============================] - 15s 429ms/step - loss: 0.2457 - accuracy: 0.8912 - val_loss: 0.3994 - val_accuracy: 0.8304\n",
            "Epoch 48/100\n",
            "35/35 [==============================] - 15s 437ms/step - loss: 0.2272 - accuracy: 0.8885 - val_loss: 0.3218 - val_accuracy: 0.8661\n",
            "Epoch 49/100\n",
            "35/35 [==============================] - 15s 432ms/step - loss: 0.2165 - accuracy: 0.9092 - val_loss: 0.3131 - val_accuracy: 0.8795\n",
            "Epoch 50/100\n",
            "35/35 [==============================] - 15s 434ms/step - loss: 0.2239 - accuracy: 0.9011 - val_loss: 0.2755 - val_accuracy: 0.8973\n",
            "Epoch 51/100\n",
            "35/35 [==============================] - 16s 445ms/step - loss: 0.2626 - accuracy: 0.8768 - val_loss: 0.2685 - val_accuracy: 0.8973\n",
            "Epoch 52/100\n",
            "35/35 [==============================] - 15s 435ms/step - loss: 0.2553 - accuracy: 0.8822 - val_loss: 0.3302 - val_accuracy: 0.8616\n",
            "Epoch 53/100\n",
            "35/35 [==============================] - 16s 447ms/step - loss: 0.2495 - accuracy: 0.9029 - val_loss: 0.3417 - val_accuracy: 0.8705\n",
            "Epoch 54/100\n",
            "35/35 [==============================] - 16s 450ms/step - loss: 0.2379 - accuracy: 0.9074 - val_loss: 0.2926 - val_accuracy: 0.8884\n",
            "Epoch 55/100\n",
            "35/35 [==============================] - 16s 444ms/step - loss: 0.2419 - accuracy: 0.8966 - val_loss: 0.2527 - val_accuracy: 0.8973\n",
            "Epoch 56/100\n",
            "35/35 [==============================] - 16s 454ms/step - loss: 0.2427 - accuracy: 0.8957 - val_loss: 0.2977 - val_accuracy: 0.9062\n",
            "Epoch 57/100\n",
            "35/35 [==============================] - 15s 434ms/step - loss: 0.2180 - accuracy: 0.8993 - val_loss: 0.3284 - val_accuracy: 0.8705\n",
            "Epoch 58/100\n",
            "35/35 [==============================] - 15s 433ms/step - loss: 0.2221 - accuracy: 0.8957 - val_loss: 0.2288 - val_accuracy: 0.9107\n",
            "Epoch 59/100\n",
            "35/35 [==============================] - 16s 457ms/step - loss: 0.1989 - accuracy: 0.9065 - val_loss: 0.2807 - val_accuracy: 0.9062\n",
            "Epoch 60/100\n",
            "35/35 [==============================] - 15s 441ms/step - loss: 0.2123 - accuracy: 0.8903 - val_loss: 0.3423 - val_accuracy: 0.8393\n",
            "Epoch 61/100\n",
            "35/35 [==============================] - 15s 437ms/step - loss: 0.2230 - accuracy: 0.9083 - val_loss: 0.3550 - val_accuracy: 0.8929\n",
            "Epoch 62/100\n",
            "35/35 [==============================] - 16s 453ms/step - loss: 0.2173 - accuracy: 0.9056 - val_loss: 0.3043 - val_accuracy: 0.8884\n",
            "Epoch 63/100\n",
            "35/35 [==============================] - 16s 446ms/step - loss: 0.2237 - accuracy: 0.9047 - val_loss: 0.3440 - val_accuracy: 0.8705\n",
            "Epoch 64/100\n",
            "35/35 [==============================] - 15s 438ms/step - loss: 0.2648 - accuracy: 0.8669 - val_loss: 0.2987 - val_accuracy: 0.8839\n",
            "Epoch 65/100\n",
            "35/35 [==============================] - 15s 438ms/step - loss: 0.2290 - accuracy: 0.8993 - val_loss: 0.2777 - val_accuracy: 0.8973\n",
            "Epoch 66/100\n",
            "35/35 [==============================] - 15s 441ms/step - loss: 0.2303 - accuracy: 0.8903 - val_loss: 0.2643 - val_accuracy: 0.9152\n",
            "Epoch 67/100\n",
            "35/35 [==============================] - 16s 442ms/step - loss: 0.2082 - accuracy: 0.9155 - val_loss: 0.3051 - val_accuracy: 0.8795\n",
            "Epoch 68/100\n",
            "35/35 [==============================] - 15s 435ms/step - loss: 0.1983 - accuracy: 0.9137 - val_loss: 0.3733 - val_accuracy: 0.8705\n",
            "Epoch 69/100\n",
            "35/35 [==============================] - 15s 441ms/step - loss: 0.1938 - accuracy: 0.9209 - val_loss: 0.3653 - val_accuracy: 0.8750\n",
            "Epoch 70/100\n",
            "35/35 [==============================] - 15s 435ms/step - loss: 0.2146 - accuracy: 0.8957 - val_loss: 0.3905 - val_accuracy: 0.8571\n",
            "Epoch 71/100\n",
            "35/35 [==============================] - 15s 432ms/step - loss: 0.2126 - accuracy: 0.8984 - val_loss: 0.2816 - val_accuracy: 0.8929\n",
            "Epoch 72/100\n",
            "35/35 [==============================] - 15s 434ms/step - loss: 0.1905 - accuracy: 0.9137 - val_loss: 0.2448 - val_accuracy: 0.9018\n",
            "Epoch 73/100\n",
            "35/35 [==============================] - 16s 453ms/step - loss: 0.1639 - accuracy: 0.9281 - val_loss: 0.3132 - val_accuracy: 0.8839\n",
            "Epoch 74/100\n",
            "35/35 [==============================] - 15s 433ms/step - loss: 0.1916 - accuracy: 0.9074 - val_loss: 0.2551 - val_accuracy: 0.9107\n",
            "Epoch 75/100\n",
            "35/35 [==============================] - 16s 443ms/step - loss: 0.2051 - accuracy: 0.9029 - val_loss: 0.2352 - val_accuracy: 0.9107\n",
            "Epoch 76/100\n",
            "35/35 [==============================] - 15s 435ms/step - loss: 0.1739 - accuracy: 0.9182 - val_loss: 0.2570 - val_accuracy: 0.9107\n",
            "Epoch 77/100\n",
            "35/35 [==============================] - 16s 445ms/step - loss: 0.2265 - accuracy: 0.9020 - val_loss: 0.2484 - val_accuracy: 0.9152\n",
            "Epoch 78/100\n",
            "35/35 [==============================] - 16s 452ms/step - loss: 0.2026 - accuracy: 0.9164 - val_loss: 0.2785 - val_accuracy: 0.9018\n",
            "Epoch 79/100\n",
            "35/35 [==============================] - 16s 442ms/step - loss: 0.2041 - accuracy: 0.9137 - val_loss: 0.2853 - val_accuracy: 0.8973\n",
            "Epoch 80/100\n",
            "35/35 [==============================] - 15s 437ms/step - loss: 0.2135 - accuracy: 0.9047 - val_loss: 0.2417 - val_accuracy: 0.9196\n",
            "Epoch 81/100\n",
            "35/35 [==============================] - 15s 433ms/step - loss: 0.1971 - accuracy: 0.9101 - val_loss: 0.3255 - val_accuracy: 0.8884\n",
            "Epoch 82/100\n",
            "35/35 [==============================] - 16s 443ms/step - loss: 0.2056 - accuracy: 0.9155 - val_loss: 0.3281 - val_accuracy: 0.8884\n",
            "Epoch 83/100\n",
            "35/35 [==============================] - 15s 440ms/step - loss: 0.1996 - accuracy: 0.9047 - val_loss: 0.3198 - val_accuracy: 0.8839\n",
            "Epoch 84/100\n",
            "35/35 [==============================] - 16s 442ms/step - loss: 0.2021 - accuracy: 0.9101 - val_loss: 0.2434 - val_accuracy: 0.9196\n",
            "Epoch 85/100\n",
            "35/35 [==============================] - 15s 435ms/step - loss: 0.2237 - accuracy: 0.9065 - val_loss: 0.3405 - val_accuracy: 0.9062\n",
            "Epoch 86/100\n",
            "35/35 [==============================] - 15s 437ms/step - loss: 0.1887 - accuracy: 0.9308 - val_loss: 0.3148 - val_accuracy: 0.8929\n",
            "Epoch 87/100\n",
            "35/35 [==============================] - 16s 445ms/step - loss: 0.1953 - accuracy: 0.9074 - val_loss: 0.3004 - val_accuracy: 0.8973\n",
            "Epoch 88/100\n",
            "35/35 [==============================] - 15s 440ms/step - loss: 0.1830 - accuracy: 0.9218 - val_loss: 0.2502 - val_accuracy: 0.9018\n",
            "Epoch 89/100\n",
            "35/35 [==============================] - 16s 443ms/step - loss: 0.2095 - accuracy: 0.9083 - val_loss: 0.2408 - val_accuracy: 0.8973\n",
            "Epoch 90/100\n",
            "35/35 [==============================] - 15s 429ms/step - loss: 0.2024 - accuracy: 0.9218 - val_loss: 0.2600 - val_accuracy: 0.9107\n",
            "Epoch 91/100\n",
            "35/35 [==============================] - 15s 434ms/step - loss: 0.1896 - accuracy: 0.9038 - val_loss: 0.3431 - val_accuracy: 0.8705\n",
            "Epoch 92/100\n",
            "35/35 [==============================] - 15s 436ms/step - loss: 0.2084 - accuracy: 0.8966 - val_loss: 0.2211 - val_accuracy: 0.9107\n",
            "Epoch 93/100\n",
            "35/35 [==============================] - 16s 453ms/step - loss: 0.1884 - accuracy: 0.9137 - val_loss: 0.2293 - val_accuracy: 0.9241\n",
            "Epoch 94/100\n",
            "35/35 [==============================] - 15s 438ms/step - loss: 0.1630 - accuracy: 0.9299 - val_loss: 0.2723 - val_accuracy: 0.8884\n",
            "Epoch 95/100\n",
            "35/35 [==============================] - 15s 437ms/step - loss: 0.1817 - accuracy: 0.9209 - val_loss: 0.2519 - val_accuracy: 0.9018\n",
            "Epoch 96/100\n",
            "35/35 [==============================] - 15s 430ms/step - loss: 0.1810 - accuracy: 0.9128 - val_loss: 0.2548 - val_accuracy: 0.9152\n",
            "Epoch 97/100\n",
            "35/35 [==============================] - 16s 444ms/step - loss: 0.1962 - accuracy: 0.9092 - val_loss: 0.2738 - val_accuracy: 0.8929\n",
            "Epoch 98/100\n",
            "35/35 [==============================] - 15s 431ms/step - loss: 0.1951 - accuracy: 0.9173 - val_loss: 0.2885 - val_accuracy: 0.9018\n",
            "Epoch 99/100\n",
            "35/35 [==============================] - 16s 445ms/step - loss: 0.2012 - accuracy: 0.8984 - val_loss: 0.2833 - val_accuracy: 0.8929\n",
            "Epoch 100/100\n",
            "35/35 [==============================] - 15s 434ms/step - loss: 0.2319 - accuracy: 0.8912 - val_loss: 0.2179 - val_accuracy: 0.9107\n"
          ]
        }
      ],
      "source": [
        "from keras.applications import VGG16\n",
        "from keras.models import Model, Sequential\n",
        "from keras.layers import Flatten, Dense, Dropout, GlobalAveragePooling2D\n",
        "from keras import regularizers\n",
        "from keras.optimizers import Adam\n",
        "from keras.preprocessing.image import ImageDataGenerator\n",
        "from keras.callbacks import EarlyStopping, ModelCheckpoint\n",
        "\n",
        "# Memuat model dasar VGG16 tanpa lapisan atas (include_top=False)\n",
        "base_model = VGG16(weights='imagenet', include_top=False, input_shape=(224, 224, 3))\n",
        "\n",
        "# Membekukan lapisan-lapisan dari model dasar\n",
        "for layer in base_model.layers:\n",
        "    layer.trainable = False\n",
        "\n",
        "# Membuat model baru dengan menambahkan lapisan-lapisan di atas model dasar\n",
        "model = Sequential()\n",
        "model.add(base_model)\n",
        "model.add(Flatten())\n",
        "model.add(Dense(256, activation='relu'))\n",
        "model.add(Dropout(0.5))\n",
        "model.add(Dropout(0.3))\n",
        "model.add(Dense(1, activation='sigmoid'))\n",
        "\n",
        "# Kompilasi model\n",
        "optimizer = Adam(learning_rate=0.001)\n",
        "model.compile(loss='binary_crossentropy',\n",
        "              optimizer=optimizer,\n",
        "              metrics=['accuracy'])\n",
        "\n",
        "# Callbacks untuk early stopping dan model checkpoint\n",
        "\n",
        "\n",
        "\n",
        "# Pelatihan model\n",
        "history = model.fit(\n",
        "    train_generator,\n",
        "    steps_per_epoch=train_generator.samples // train_generator.batch_size,\n",
        "    epochs=100,\n",
        "    validation_data=validation_generator,\n",
        "    validation_steps=validation_generator.samples // validation_generator.batch_size\n",
        ")"
      ]
    },
    {
      "cell_type": "code",
      "execution_count": null,
      "metadata": {
        "colab": {
          "base_uri": "https://localhost:8080/",
          "height": 887
        },
        "id": "h1GNrdwL-C_S",
        "outputId": "2fff2113-e70e-4210-a25a-78de84a596be"
      },
      "outputs": [
        {
          "output_type": "display_data",
          "data": {
            "text/plain": [
              "<Figure size 640x480 with 1 Axes>"
            ],
            "image/png": "[encoded data removed]"
          },
          "metadata": {}
        },
        {
          "output_type": "display_data",
          "data": {
            "text/plain": [
              "<Figure size 640x480 with 1 Axes>"
            ],
            "image/png": "[encoded data removed]"
          },
          "metadata": {}
        }
      ],
      "source": [
        "import matplotlib.pyplot as plt\n",
        "\n",
        "acc = history.history['accuracy']\n",
        "val_acc = history.history['val_accuracy']\n",
        "loss = history.history['loss']\n",
        "val_loss = history.history['val_loss']\n",
        "\n",
        "epochs = range(len(acc))\n",
        "\n",
        "plt.plot(epochs, acc, 'r', label='Training accuracy')\n",
        "plt.plot(epochs, val_acc, 'b', label='Validation accuracy')\n",
        "plt.title('Training and validation accuracy')\n",
        "plt.legend(loc=0)\n",
        "plt.figure()\n",
        "\n",
        "plt.plot(epochs, loss, 'r', label='Training loss')\n",
        "plt.plot(epochs, val_loss, 'b', label='Validation loss')\n",
        "plt.title('Training and validation loss')\n",
        "plt.legend(loc=0)\n",
        "plt.show()"
      ]
    },
    {
      "cell_type": "code",
      "execution_count": null,
      "metadata": {
        "id": "o_g4upF4PNIS"
      },
      "outputs": [],
      "source": [
        "import ipywidgets as widgets\n",
        "from IPython.display import display, HTML, clear_output\n",
        "from PIL import Image\n",
        "import io\n",
        "import numpy as np\n",
        "\n",
        "def on_upload_change(change):\n",
        "    clear_output(wait=True)\n",
        "\n",
        "    # Proses file yang diunggah\n",
        "    if change['new']:\n",
        "        for name, file_info in change['new'].items():\n",
        "            file_content = file_info['content']\n",
        "            img = Image.open(io.BytesIO(file_content))\n",
        "\n",
        "            # Tampilkan gambar yang diunggah\n",
        "            display(HTML(\"<h3>Uploaded Image:</h3>\"))\n",
        "            display(widgets.Image(value=file_content, format='jpg'))\n",
        "\n",
        "            # Prediksi gambar\n",
        "            pmk_label, pmk_confidence= process_and_predict(img)\n",
        "\n",
        "            if pmk_label is None:\n",
        "                display(HTML('<p style=\"color:red;\">Error processing the image.</p>'))\n",
        "            else:\n",
        "                display(HTML(f\"<h3>Prediction Result:</h3>\"))\n",
        "                display(HTML(f\"<p>PMK Prediction: <strong>{pmk_label}</strong> ({pmk_confidence * 100:.2f}% confidence)</p>\"))"
      ]
    },
    {
      "cell_type": "code",
      "execution_count": null,
      "metadata": {
        "id": "pBLyK64KPOl-"
      },
      "outputs": [],
      "source": [
        "def process_and_predict(image):\n",
        "    try:\n",
        "        # Resize dan preprocess gambar\n",
        "        img = image.resize((224, 224))\n",
        "        img_array = np.array(img) / 255.0\n",
        "        img_array = np.expand_dims(img_array, axis=0)\n",
        "\n",
        "        # Lakukan prediksi\n",
        "        predictions = model.predict(img_array)\n",
        "\n",
        "        # Debug print untuk memeriksa prediksi mentah\n",
        "        print(\"Predictions:\", predictions)\n",
        "\n",
        "        # Prediksi PMK\n",
        "        pmk_pred = predictions[0][0]\n",
        "        pmk_label = 'Terkena PMK' if pmk_pred > 0.5 else 'Tidak terkena PMK'\n",
        "        pmk_confidence = pmk_pred if pmk_pred > 0.5 else 1 - pmk_pred\n",
        "\n",
        "        return pmk_label, float(pmk_confidence)\n",
        "    except Exception as e:\n",
        "        print(f\"Error: {e}\")\n",
        "        return None, None"
      ]
    },
    {
      "cell_type": "code",
      "execution_count": null,
      "metadata": {
        "colab": {
          "base_uri": "https://localhost:8080/",
          "height": 679,
          "referenced_widgets": [
            "4d869d9d42f14ed9bff676361e399453",
            "9682479817af4931a23f789181f5107c",
            "db00f4ae78d1402eb54c5c0efad5ca78",
            "926604e1f68f481d9d00f706007e17bd",
            "935931590bda46b7aa74d70a91b6deee"
          ]
        },
        "id": "rYBStNnoPT4J",
        "outputId": "6245333f-46a9-45b5-b920-d68783c735e6"
      },
      "outputs": [
        {
          "output_type": "display_data",
          "data": {
            "text/plain": [
              "<IPython.core.display.HTML object>"
            ],
            "text/html": [
              "<h3>Uploaded Image:</h3>"
            ]
          },
          "metadata": {}
        },
        {
          "output_type": "display_data",
          "data": {
            "text/plain": [
              "Image(value=b'\\xff\\xd8\\xff\\xe0\\x00\\x10JFIF\\x00\\x01\\x01\\x01\\x01,\\x01,\\x00\\x00\\xff\\xe1\\xe8\\x86Exif\\x00\\x00II*\\x0…"
            ],
            "application/vnd.jupyter.widget-view+json": {
              "version_major": 2,
              "version_minor": 0,
              "model_id": "926604e1f68f481d9d00f706007e17bd"
            }
          },
          "metadata": {}
        },
        {
          "output_type": "stream",
          "name": "stdout",
          "text": [
            "1/1 [==============================] - 0s 19ms/step\n",
            "Predictions: [[0.95996696]]\n"
          ]
        },
        {
          "output_type": "display_data",
          "data": {
            "text/plain": [
              "<IPython.core.display.HTML object>"
            ],
            "text/html": [
              "<h3>Prediction Result:</h3>"
            ]
          },
          "metadata": {}
        },
        {
          "output_type": "display_data",
          "data": {
            "text/plain": [
              "<IPython.core.display.HTML object>"
            ],
            "text/html": [
              "<p>PMK Prediction: <strong>Terkena PMK</strong> (96.00% confidence)</p>"
            ]
          },
          "metadata": {}
        }
      ],
      "source": [
        "upload_widget = widgets.FileUpload(accept='image/*', multiple=False)\n",
        "upload_widget.observe(on_upload_change, names='value')\n",
        "\n",
        "display(HTML(\"<h2>Upload Image to Predict PMK and Body Part</h2>\"))\n",
        "display(upload_widget)"
      ]
    },
    {
      "cell_type": "code",
      "execution_count": null,
      "metadata": {
        "colab": {
          "base_uri": "https://localhost:8080/"
        },
        "id": "h3P28AG9PdR7",
        "outputId": "77b258aa-f0da-4f81-f68b-20e98f89a4af"
      },
      "outputs": [
        {
          "output_type": "stream",
          "name": "stdout",
          "text": [
            "1/1 [==============================] - 0s 17ms/step\n",
            "File: dataset/test/0/img138.jpeg - Predicted: Tidak terkena PMK with confidence: 0.9998192489147186\n",
            "1/1 [==============================] - 0s 18ms/step\n",
            "File: dataset/test/0/img139.jpeg - Predicted: Tidak terkena PMK with confidence: 0.9993167613865808\n",
            "1/1 [==============================] - 0s 20ms/step\n",
            "File: dataset/test/0/img140.jpeg - Predicted: Tidak terkena PMK with confidence: 0.9999998464087128\n",
            "1/1 [==============================] - 0s 19ms/step\n",
            "File: dataset/test/0/img141.jpeg - Predicted: Tidak terkena PMK with confidence: 0.9820864573121071\n",
            "1/1 [==============================] - 0s 20ms/step\n",
            "File: dataset/test/0/img142.jpeg - Predicted: Tidak terkena PMK with confidence: 0.9999089041230036\n",
            "1/1 [==============================] - 0s 19ms/step\n",
            "File: dataset/test/0/img143.jpeg - Predicted: Tidak terkena PMK with confidence: 0.9900772124528885\n",
            "1/1 [==============================] - 0s 19ms/step\n",
            "File: dataset/test/0/img144.jpeg - Predicted: Tidak terkena PMK with confidence: 0.9999973130104536\n",
            "1/1 [==============================] - 0s 18ms/step\n",
            "File: dataset/test/0/img145.jpeg - Predicted: Tidak terkena PMK with confidence: 0.9999819906879566\n",
            "1/1 [==============================] - 0s 22ms/step\n",
            "File: dataset/test/0/img146.jpeg - Predicted: Tidak terkena PMK with confidence: 0.9999878826138229\n",
            "1/1 [==============================] - 0s 19ms/step\n",
            "File: dataset/test/0/img147.jpeg - Predicted: Terkena PMK with confidence: 0.861168622970581\n",
            "1/1 [==============================] - 0s 17ms/step\n",
            "File: dataset/test/0/img148.jpeg - Predicted: Tidak terkena PMK with confidence: 0.9999998863693662\n",
            "1/1 [==============================] - 0s 25ms/step\n",
            "File: dataset/test/0/img149.jpeg - Predicted: Terkena PMK with confidence: 0.9218252301216125\n",
            "1/1 [==============================] - 0s 26ms/step\n",
            "File: dataset/test/0/img150.jpeg - Predicted: Tidak terkena PMK with confidence: 0.9999870480032769\n",
            "1/1 [==============================] - 0s 17ms/step\n",
            "File: dataset/test/0/img151.jpeg - Predicted: Tidak terkena PMK with confidence: 0.999999999997152\n",
            "1/1 [==============================] - 0s 19ms/step\n",
            "File: dataset/test/0/img152.jpeg - Predicted: Tidak terkena PMK with confidence: 0.6047027409076691\n",
            "1/1 [==============================] - 0s 19ms/step\n",
            "File: dataset/test/0/img153.jpeg - Predicted: Tidak terkena PMK with confidence: 0.9999512809590669\n",
            "1/1 [==============================] - 0s 19ms/step\n",
            "File: dataset/test/0/img154.jpeg - Predicted: Tidak terkena PMK with confidence: 0.9999999972599458\n",
            "1/1 [==============================] - 0s 19ms/step\n",
            "File: dataset/test/0/img155.jpeg - Predicted: Tidak terkena PMK with confidence: 0.9813565313816071\n",
            "1/1 [==============================] - 0s 19ms/step\n",
            "File: dataset/test/0/img156.jpeg - Predicted: Tidak terkena PMK with confidence: 0.9638341516256332\n",
            "1/1 [==============================] - 0s 17ms/step\n",
            "File: dataset/test/0/img157.jpeg - Predicted: Tidak terkena PMK with confidence: 0.9999967876431128\n",
            "1/1 [==============================] - 0s 18ms/step\n",
            "File: dataset/test/0/img158.jpeg - Predicted: Tidak terkena PMK with confidence: 0.9999914587551757\n",
            "1/1 [==============================] - 0s 22ms/step\n",
            "File: dataset/test/0/img159.jpeg - Predicted: Tidak terkena PMK with confidence: 0.9999999999917072\n",
            "1/1 [==============================] - 0s 21ms/step\n",
            "File: dataset/test/0/img160.jpeg - Predicted: Tidak terkena PMK with confidence: 0.9999999999484521\n",
            "1/1 [==============================] - 0s 20ms/step\n",
            "File: dataset/test/0/img161.jpeg - Predicted: Tidak terkena PMK with confidence: 0.8538870364427567\n",
            "1/1 [==============================] - 0s 17ms/step\n",
            "File: dataset/test/0/img162.jpeg - Predicted: Terkena PMK with confidence: 0.7398557066917419\n",
            "1/1 [==============================] - 0s 18ms/step\n",
            "File: dataset/test/1/img310.jpeg - Predicted: Terkena PMK with confidence: 0.9896512031555176\n",
            "1/1 [==============================] - 0s 19ms/step\n",
            "File: dataset/test/1/img311.jpeg - Predicted: Terkena PMK with confidence: 0.8499695658683777\n",
            "1/1 [==============================] - 0s 17ms/step\n",
            "File: dataset/test/1/img312.jpeg - Predicted: Terkena PMK with confidence: 0.997133731842041\n",
            "1/1 [==============================] - 0s 24ms/step\n",
            "File: dataset/test/1/img313.jpeg - Predicted: Terkena PMK with confidence: 0.99424147605896\n",
            "1/1 [==============================] - 0s 19ms/step\n",
            "File: dataset/test/1/img314.jpeg - Predicted: Terkena PMK with confidence: 0.9775713086128235\n",
            "1/1 [==============================] - 0s 18ms/step\n",
            "File: dataset/test/1/img315.jpeg - Predicted: Terkena PMK with confidence: 0.9802848100662231\n",
            "1/1 [==============================] - 0s 17ms/step\n",
            "File: dataset/test/1/img316.jpeg - Predicted: Tidak terkena PMK with confidence: 0.6476224660873413\n",
            "1/1 [==============================] - 0s 20ms/step\n",
            "File: dataset/test/1/img317.jpeg - Predicted: Terkena PMK with confidence: 0.5338594317436218\n",
            "1/1 [==============================] - 0s 20ms/step\n",
            "File: dataset/test/1/img318.jpeg - Predicted: Tidak terkena PMK with confidence: 0.8963448479771614\n",
            "1/1 [==============================] - 0s 24ms/step\n",
            "File: dataset/test/1/img319.jpeg - Predicted: Terkena PMK with confidence: 0.9979963898658752\n",
            "1/1 [==============================] - 0s 28ms/step\n",
            "File: dataset/test/1/img320.jpeg - Predicted: Terkena PMK with confidence: 0.9909167885780334\n",
            "1/1 [==============================] - 0s 32ms/step\n",
            "File: dataset/test/1/img321.jpeg - Predicted: Terkena PMK with confidence: 0.9177216291427612\n",
            "1/1 [==============================] - 0s 24ms/step\n",
            "File: dataset/test/1/img322.jpeg - Predicted: Terkena PMK with confidence: 0.9988911747932434\n",
            "1/1 [==============================] - 0s 28ms/step\n",
            "File: dataset/test/1/img323.jpeg - Predicted: Terkena PMK with confidence: 0.8122051358222961\n",
            "1/1 [==============================] - 0s 29ms/step\n",
            "File: dataset/test/1/img324.jpeg - Predicted: Terkena PMK with confidence: 0.9988954067230225\n",
            "1/1 [==============================] - 0s 28ms/step\n",
            "File: dataset/test/1/img325.jpeg - Predicted: Terkena PMK with confidence: 0.9989354014396667\n",
            "1/1 [==============================] - 0s 25ms/step\n",
            "File: dataset/test/1/img326.jpeg - Predicted: Terkena PMK with confidence: 0.9999901056289673\n",
            "1/1 [==============================] - 0s 25ms/step\n",
            "File: dataset/test/1/img327.jpeg - Predicted: Terkena PMK with confidence: 0.9991205334663391\n",
            "1/1 [==============================] - 0s 25ms/step\n",
            "File: dataset/test/1/img328.jpeg - Predicted: Terkena PMK with confidence: 0.7383311986923218\n",
            "1/1 [==============================] - 0s 26ms/step\n",
            "File: dataset/test/1/img329.jpeg - Predicted: Terkena PMK with confidence: 0.9925076365470886\n",
            "1/1 [==============================] - 0s 24ms/step\n",
            "File: dataset/test/1/img330.jpeg - Predicted: Terkena PMK with confidence: 0.7063849568367004\n",
            "1/1 [==============================] - 0s 26ms/step\n",
            "File: dataset/test/1/img331.jpeg - Predicted: Terkena PMK with confidence: 0.9989168643951416\n",
            "1/1 [==============================] - 0s 30ms/step\n",
            "File: dataset/test/1/img332.jpeg - Predicted: Terkena PMK with confidence: 0.9812115430831909\n",
            "1/1 [==============================] - 0s 28ms/step\n",
            "File: dataset/test/1/img333.jpeg - Predicted: Terkena PMK with confidence: 0.795971155166626\n",
            "1/1 [==============================] - 0s 27ms/step\n",
            "File: dataset/test/1/img334.jpeg - Predicted: Terkena PMK with confidence: 0.9999077320098877\n",
            "1/1 [==============================] - 0s 27ms/step\n",
            "File: dataset/test/1/img335.jpeg - Predicted: Terkena PMK with confidence: 0.8892788887023926\n"
          ]
        }
      ],
      "source": [
        "import os\n",
        "from keras.preprocessing.image import load_img, img_to_array\n",
        "\n",
        "def process_and_predict(image_path):\n",
        "    try:\n",
        "        # Load dan resize gambar\n",
        "        img = load_img(image_path, target_size=(224, 224))\n",
        "        img_array = img_to_array(img) / 255.0\n",
        "        img_array = np.expand_dims(img_array, axis=0)\n",
        "\n",
        "        # Lakukan prediksi\n",
        "        predictions = model.predict(img_array)\n",
        "\n",
        "        # Prediksi PMK\n",
        "        pmk_pred = predictions[0][0]\n",
        "        pmk_label = 'Terkena PMK' if pmk_pred > 0.5 else 'Tidak terkena PMK'\n",
        "        pmk_confidence = pmk_pred if pmk_pred > 0.5 else 1 - pmk_pred\n",
        "\n",
        "        return pmk_label, float(pmk_confidence)\n",
        "    except Exception as e:\n",
        "        print(f\"Error: {e}\")\n",
        "        return None, None\n",
        "\n",
        "# Predict all images in the test folder\n",
        "test_folder = os.path.dirname(test_generator.filepaths[0])  # Assuming all images are in the same directory\n",
        "image_files = test_generator.filepaths\n",
        "\n",
        "for image_file in image_files:\n",
        "    label, confidence = process_and_predict(image_file)\n",
        "    print(f\"File: {image_file} - Predicted: {label} with confidence: {confidence}\")"
      ]
    },
    {
      "cell_type": "code",
      "execution_count": null,
      "metadata": {
        "colab": {
          "base_uri": "https://localhost:8080/"
        },
        "id": "oH19JHxMFW4C",
        "outputId": "bd029bf9-c3a1-4064-8d8d-45d6a6abf7ea"
      },
      "outputs": [
        {
          "output_type": "stream",
          "name": "stderr",
          "text": [
            "/usr/local/lib/python3.10/dist-packages/keras/src/engine/training.py:3103: UserWarning: You are saving your model as an HDF5 file via `model.save()`. This file format is considered legacy. We recommend using instead the native Keras format, e.g. `model.save('my_model.keras')`.\n",
            "  saving_api.save_model(\n"
          ]
        },
        {
          "output_type": "stream",
          "name": "stdout",
          "text": [
            "Model TFLite saved successfully.\n",
            "Found 51 images belonging to 2 classes.\n",
            "Model TFLite accuracy: 49.02%\n"
          ]
        }
      ],
      "source": [
        "\n",
        "import tensorflow as tf\n",
        "\n",
        "# Menyimpan model keras yang telah dilatih\n",
        "model.save('trained_model.h5')\n",
        "\n",
        "# Mengonversi model keras ke TFLite\n",
        "converter = tf.lite.TFLiteConverter.from_keras_model(model)\n",
        "tflite_model = converter.convert()\n",
        "\n",
        "# Menyimpan model TFLite ke file\n",
        "tflite_model_path = 'trained_model.tflite'\n",
        "with open(tflite_model_path, 'wb') as f:\n",
        "    f.write(tflite_model)\n",
        "\n",
        "print(\"Model TFLite saved successfully.\")\n",
        "\n",
        "\n",
        "import numpy as np\n",
        "from tensorflow.keras.preprocessing.image import ImageDataGenerator\n",
        "import tensorflow as tf\n",
        "\n",
        "# Fungsi untuk memuat model TFLite\n",
        "def load_tflite_model(model_path):\n",
        "    interpreter = tf.lite.Interpreter(model_path=model_path)\n",
        "    interpreter.allocate_tensors()\n",
        "    return interpreter\n",
        "\n",
        "# Fungsi untuk menjalankan inferensi pada model TFLite\n",
        "def run_inference(interpreter, input_data):\n",
        "    input_details = interpreter.get_input_details()\n",
        "    output_details = interpreter.get_output_details()\n",
        "\n",
        "    interpreter.set_tensor(input_details[0]['index'], input_data)\n",
        "    interpreter.invoke()\n",
        "\n",
        "    output_data = interpreter.get_tensor(output_details[0]['index'])\n",
        "    return output_data\n",
        "\n",
        "# Mengonfigurasi ImageDataGenerator untuk set data uji\n",
        "test_datagen = ImageDataGenerator(rescale=1./255)\n",
        "\n",
        "test_generator = test_datagen.flow_from_directory(\n",
        "    test_dir,\n",
        "    target_size=(224, 224),\n",
        "    batch_size=1,\n",
        "    class_mode='binary',\n",
        "    shuffle=False\n",
        ")\n",
        "\n",
        "# Memuat model TFLite\n",
        "tflite_model_path = 'trained_model.tflite'\n",
        "interpreter = load_tflite_model(tflite_model_path)\n",
        "\n",
        "# Evaluasi model TFLite\n",
        "correct_predictions = 0\n",
        "total_samples = len(test_generator.filenames)\n",
        "\n",
        "for i in range(total_samples):\n",
        "    x, y_true = test_generator[i]\n",
        "    y_true = y_true[0]\n",
        "\n",
        "    # Preprocessing image for TFLite model\n",
        "    y_pred = run_inference(interpreter, x)\n",
        "    y_pred_label = np.argmax(y_pred)\n",
        "\n",
        "    # Assuming binary classification with labels 0 and 1\n",
        "    if y_pred_label == y_true:\n",
        "        correct_predictions += 1\n",
        "\n",
        "accuracy = correct_predictions / total_samples\n",
        "print(f'Model TFLite accuracy: {accuracy * 100:.2f}%')"
      ]
    },
    {
      "cell_type": "code",
      "execution_count": null,
      "metadata": {
        "colab": {
          "base_uri": "https://localhost:8080/",
          "height": 141
        },
        "id": "NSXzvrGsKYRY",
        "outputId": "9f9fc625-0525-4170-d770-257362322aee"
      },
      "outputs": [
        {
          "output_type": "stream",
          "name": "stderr",
          "text": [
            "/usr/local/lib/python3.10/dist-packages/keras/src/engine/training.py:3103: UserWarning: You are saving your model as an HDF5 file via `model.save()`. This file format is considered legacy. We recommend using instead the native Keras format, e.g. `model.save('my_model.keras')`.\n",
            "  saving_api.save_model(\n"
          ]
        },
        {
          "output_type": "stream",
          "name": "stdout",
          "text": [
            "Model .h5 telah disimpan.\n",
            "Model TFLite telah disimpan.\n",
            "Diagram arsitektur model telah disimpan.\n"
          ]
        },
        {
          "output_type": "display_data",
          "data": {
            "text/plain": [
              "<IPython.core.display.Javascript object>"
            ],
            "application/javascript": [
              "\n",
              "    async function download(id, filename, size) {\n",
              "      if (!google.colab.kernel.accessAllowed) {\n",
              "        return;\n",
              "      }\n",
              "      const div = document.createElement('div');\n",
              "      const label = document.createElement('label');\n",
              "      label.textContent = `Downloading \"${filename}\": `;\n",
              "      div.appendChild(label);\n",
              "      const progress = document.createElement('progress');\n",
              "      progress.max = size;\n",
              "      div.appendChild(progress);\n",
              "      document.body.appendChild(div);\n",
              "\n",
              "      const buffers = [];\n",
              "      let downloaded = 0;\n",
              "\n",
              "      const channel = await google.colab.kernel.comms.open(id);\n",
              "      // Send a message to notify the kernel that we're ready.\n",
              "      channel.send({})\n",
              "\n",
              "      for await (const message of channel.messages) {\n",
              "        // Send a message to notify the kernel that we're ready.\n",
              "        channel.send({})\n",
              "        if (message.buffers) {\n",
              "          for (const buffer of message.buffers) {\n",
              "            buffers.push(buffer);\n",
              "            downloaded += buffer.byteLength;\n",
              "            progress.value = downloaded;\n",
              "          }\n",
              "        }\n",
              "      }\n",
              "      const blob = new Blob(buffers, {type: 'application/binary'});\n",
              "      const a = document.createElement('a');\n",
              "      a.href = window.URL.createObjectURL(blob);\n",
              "      a.download = filename;\n",
              "      div.appendChild(a);\n",
              "      a.click();\n",
              "      div.remove();\n",
              "    }\n",
              "  "
            ]
          },
          "metadata": {}
        },
        {
          "output_type": "display_data",
          "data": {
            "text/plain": [
              "<IPython.core.display.Javascript object>"
            ],
            "application/javascript": [
              "download(\"download_e0cdf294-325a-4d8b-9e7a-3b225a7c871a\", \"my_model.h5\", 136012424)"
            ]
          },
          "metadata": {}
        },
        {
          "output_type": "display_data",
          "data": {
            "text/plain": [
              "<IPython.core.display.Javascript object>"
            ],
            "application/javascript": [
              "\n",
              "    async function download(id, filename, size) {\n",
              "      if (!google.colab.kernel.accessAllowed) {\n",
              "        return;\n",
              "      }\n",
              "      const div = document.createElement('div');\n",
              "      const label = document.createElement('label');\n",
              "      label.textContent = `Downloading \"${filename}\": `;\n",
              "      div.appendChild(label);\n",
              "      const progress = document.createElement('progress');\n",
              "      progress.max = size;\n",
              "      div.appendChild(progress);\n",
              "      document.body.appendChild(div);\n",
              "\n",
              "      const buffers = [];\n",
              "      let downloaded = 0;\n",
              "\n",
              "      const channel = await google.colab.kernel.comms.open(id);\n",
              "      // Send a message to notify the kernel that we're ready.\n",
              "      channel.send({})\n",
              "\n",
              "      for await (const message of channel.messages) {\n",
              "        // Send a message to notify the kernel that we're ready.\n",
              "        channel.send({})\n",
              "        if (message.buffers) {\n",
              "          for (const buffer of message.buffers) {\n",
              "            buffers.push(buffer);\n",
              "            downloaded += buffer.byteLength;\n",
              "            progress.value = downloaded;\n",
              "          }\n",
              "        }\n",
              "      }\n",
              "      const blob = new Blob(buffers, {type: 'application/binary'});\n",
              "      const a = document.createElement('a');\n",
              "      a.href = window.URL.createObjectURL(blob);\n",
              "      a.download = filename;\n",
              "      div.appendChild(a);\n",
              "      a.click();\n",
              "      div.remove();\n",
              "    }\n",
              "  "
            ]
          },
          "metadata": {}
        },
        {
          "output_type": "display_data",
          "data": {
            "text/plain": [
              "<IPython.core.display.Javascript object>"
            ],
            "application/javascript": [
              "download(\"download_685e29ac-ec96-4061-988e-c439c4f2da6b\", \"my_model.tflite\", 84561500)"
            ]
          },
          "metadata": {}
        },
        {
          "output_type": "display_data",
          "data": {
            "text/plain": [
              "<IPython.core.display.Javascript object>"
            ],
            "application/javascript": [
              "\n",
              "    async function download(id, filename, size) {\n",
              "      if (!google.colab.kernel.accessAllowed) {\n",
              "        return;\n",
              "      }\n",
              "      const div = document.createElement('div');\n",
              "      const label = document.createElement('label');\n",
              "      label.textContent = `Downloading \"${filename}\": `;\n",
              "      div.appendChild(label);\n",
              "      const progress = document.createElement('progress');\n",
              "      progress.max = size;\n",
              "      div.appendChild(progress);\n",
              "      document.body.appendChild(div);\n",
              "\n",
              "      const buffers = [];\n",
              "      let downloaded = 0;\n",
              "\n",
              "      const channel = await google.colab.kernel.comms.open(id);\n",
              "      // Send a message to notify the kernel that we're ready.\n",
              "      channel.send({})\n",
              "\n",
              "      for await (const message of channel.messages) {\n",
              "        // Send a message to notify the kernel that we're ready.\n",
              "        channel.send({})\n",
              "        if (message.buffers) {\n",
              "          for (const buffer of message.buffers) {\n",
              "            buffers.push(buffer);\n",
              "            downloaded += buffer.byteLength;\n",
              "            progress.value = downloaded;\n",
              "          }\n",
              "        }\n",
              "      }\n",
              "      const blob = new Blob(buffers, {type: 'application/binary'});\n",
              "      const a = document.createElement('a');\n",
              "      a.href = window.URL.createObjectURL(blob);\n",
              "      a.download = filename;\n",
              "      div.appendChild(a);\n",
              "      a.click();\n",
              "      div.remove();\n",
              "    }\n",
              "  "
            ]
          },
          "metadata": {}
        },
        {
          "output_type": "display_data",
          "data": {
            "text/plain": [
              "<IPython.core.display.Javascript object>"
            ],
            "application/javascript": [
              "download(\"download_8fcc4a20-e542-415e-a871-a50035e0c163\", \"model_architecture.png\", 47563)"
            ]
          },
          "metadata": {}
        }
      ],
      "source": [
        "import tensorflow as tf\n",
        "from tensorflow.keras.utils import plot_model\n",
        "\n",
        "# Simpan model ke file .h5\n",
        "model.save(\"my_model.h5\")\n",
        "\n",
        "# Convert the model to TensorFlow Lite format\n",
        "converter = tf.lite.TFLiteConverter.from_keras_model(model)\n",
        "tflite_model = converter.convert()\n",
        "\n",
        "# Save the TensorFlow Lite model to disk\n",
        "with open(\"my_model.tflite\", \"wb\") as f:\n",
        "    f.write(tflite_model)\n",
        "\n",
        "# Plot the model architecture and save as an image\n",
        "plot_model(model, to_file='model_architecture.png', show_shapes=True)\n",
        "\n",
        "# Memeriksa apakah file telah disimpan\n",
        "if os.path.exists(\"my_model.h5\"):\n",
        "    print(\"Model .h5 telah disimpan.\")\n",
        "\n",
        "if os.path.exists(\"my_model.tflite\"):\n",
        "    print(\"Model TFLite telah disimpan.\")\n",
        "\n",
        "if os.path.exists(\"model_architecture.png\"):\n",
        "    print(\"Diagram arsitektur model telah disimpan.\")\n",
        "\n",
        "# Menyimpan model dan file TFLite ke dalam folder yang bisa di-download\n",
        "from google.colab import files\n",
        "\n",
        "files.download(\"my_model.h5\")\n",
        "files.download(\"my_model.tflite\")\n",
        "files.download(\"model_architecture.png\")"
      ]
    },
    {
      "cell_type": "code",
      "execution_count": null,
      "metadata": {
        "colab": {
          "base_uri": "https://localhost:8080/",
          "height": 34
        },
        "id": "xZdccwV7KZIo",
        "outputId": "6202f70a-91b9-474a-c722-213298eb86c5"
      },
      "outputs": [
        {
          "output_type": "stream",
          "name": "stdout",
          "text": [
            "Model JSON telah disimpan.\n"
          ]
        },
        {
          "output_type": "display_data",
          "data": {
            "text/plain": [
              "<IPython.core.display.Javascript object>"
            ],
            "application/javascript": [
              "\n",
              "    async function download(id, filename, size) {\n",
              "      if (!google.colab.kernel.accessAllowed) {\n",
              "        return;\n",
              "      }\n",
              "      const div = document.createElement('div');\n",
              "      const label = document.createElement('label');\n",
              "      label.textContent = `Downloading \"${filename}\": `;\n",
              "      div.appendChild(label);\n",
              "      const progress = document.createElement('progress');\n",
              "      progress.max = size;\n",
              "      div.appendChild(progress);\n",
              "      document.body.appendChild(div);\n",
              "\n",
              "      const buffers = [];\n",
              "      let downloaded = 0;\n",
              "\n",
              "      const channel = await google.colab.kernel.comms.open(id);\n",
              "      // Send a message to notify the kernel that we're ready.\n",
              "      channel.send({})\n",
              "\n",
              "      for await (const message of channel.messages) {\n",
              "        // Send a message to notify the kernel that we're ready.\n",
              "        channel.send({})\n",
              "        if (message.buffers) {\n",
              "          for (const buffer of message.buffers) {\n",
              "            buffers.push(buffer);\n",
              "            downloaded += buffer.byteLength;\n",
              "            progress.value = downloaded;\n",
              "          }\n",
              "        }\n",
              "      }\n",
              "      const blob = new Blob(buffers, {type: 'application/binary'});\n",
              "      const a = document.createElement('a');\n",
              "      a.href = window.URL.createObjectURL(blob);\n",
              "      a.download = filename;\n",
              "      div.appendChild(a);\n",
              "      a.click();\n",
              "      div.remove();\n",
              "    }\n",
              "  "
            ]
          },
          "metadata": {}
        },
        {
          "output_type": "display_data",
          "data": {
            "text/plain": [
              "<IPython.core.display.Javascript object>"
            ],
            "application/javascript": [
              "download(\"download_8cdfc13a-8a4b-43e0-a5df-71dfd75a18d3\", \"my_model.json\", 15899)"
            ]
          },
          "metadata": {}
        }
      ],
      "source": [
        "# Simpan model ke dalam format JSON\n",
        "model_json = model.to_json()\n",
        "with open(\"my_model.json\", \"w\") as json_file:\n",
        "    json_file.write(model_json)\n",
        "\n",
        "# Memeriksa apakah file telah disimpan\n",
        "if os.path.exists(\"my_model.json\"):\n",
        "    print(\"Model JSON telah disimpan.\")\n",
        "\n",
        "# Menyimpan model JSON ke dalam folder yang bisa di-download\n",
        "from google.colab import files\n",
        "\n",
        "files.download(\"my_model.json\")"
      ]
    }
  ],
  "metadata": {
    "accelerator": "GPU",
    "colab": {
      "gpuType": "T4",
      "provenance": []
    },
    "kernelspec": {
      "display_name": "Python 3 (ipykernel)",
      "language": "python",
      "name": "python3"
    },
    "language_info": {
      "codemirror_mode": {
        "name": "ipython",
        "version": 3
      },
      "file_extension": ".py",
      "mimetype": "text/x-python",
      "name": "python",
      "nbconvert_exporter": "python",
      "pygments_lexer": "ipython3",
      "version": "3.11.7"
    },
    "widgets": {
      "application/vnd.jupyter.widget-state+json": {
        "4d869d9d42f14ed9bff676361e399453": {
          "model_module": "@jupyter-widgets/controls",
          "model_name": "FileUploadModel",
          "model_module_version": "1.5.0",
          "state": {
            "_counter": 1,
            "_dom_classes": [],
            "_model_module": "@jupyter-widgets/controls",
            "_model_module_version": "1.5.0",
            "_model_name": "FileUploadModel",
            "_view_count": null,
            "_view_module": "@jupyter-widgets/controls",
            "_view_module_version": "1.5.0",
            "_view_name": "FileUploadView",
            "accept": "image/*",
            "button_style": "",
            "data": [
              null
            ],
            "description": "Upload",
            "description_tooltip": null,
            "disabled": false,
            "error": "",
            "icon": "upload",
            "layout": "IPY_MODEL_9682479817af4931a23f789181f5107c",
            "metadata": [
              {
                "name": "Diseased foot 2.jpg",
                "type": "image/jpeg",
                "size": 272324,
                "lastModified": 1717318385196
              }
            ],
            "multiple": false,
            "style": "IPY_MODEL_db00f4ae78d1402eb54c5c0efad5ca78"
          }
        },
        "9682479817af4931a23f789181f5107c": {
          "model_module": "@jupyter-widgets/base",
          "model_name": "LayoutModel",
          "model_module_version": "1.2.0",
          "state": {
            "_model_module": "@jupyter-widgets/base",
            "_model_module_version": "1.2.0",
            "_model_name": "LayoutModel",
            "_view_count": null,
            "_view_module": "@jupyter-widgets/base",
            "_view_module_version": "1.2.0",
            "_view_name": "LayoutView",
            "align_content": null,
            "align_items": null,
            "align_self": null,
            "border": null,
            "bottom": null,
            "display": null,
            "flex": null,
            "flex_flow": null,
            "grid_area": null,
            "grid_auto_columns": null,
            "grid_auto_flow": null,
            "grid_auto_rows": null,
            "grid_column": null,
            "grid_gap": null,
            "grid_row": null,
            "grid_template_areas": null,
            "grid_template_columns": null,
            "grid_template_rows": null,
            "height": null,
            "justify_content": null,
            "justify_items": null,
            "left": null,
            "margin": null,
            "max_height": null,
            "max_width": null,
            "min_height": null,
            "min_width": null,
            "object_fit": null,
            "object_position": null,
            "order": null,
            "overflow": null,
            "overflow_x": null,
            "overflow_y": null,
            "padding": null,
            "right": null,
            "top": null,
            "visibility": null,
            "width": null
          }
        },
        "db00f4ae78d1402eb54c5c0efad5ca78": {
          "model_module": "@jupyter-widgets/controls",
          "model_name": "ButtonStyleModel",
          "model_module_version": "1.5.0",
          "state": {
            "_model_module": "@jupyter-widgets/controls",
            "_model_module_version": "1.5.0",
            "_model_name": "ButtonStyleModel",
            "_view_count": null,
            "_view_module": "@jupyter-widgets/base",
            "_view_module_version": "1.2.0",
            "_view_name": "StyleView",
            "button_color": null,
            "font_weight": ""
          }
        },
        "926604e1f68f481d9d00f706007e17bd": {
          "model_module": "@jupyter-widgets/controls",
          "model_name": "ImageModel",
          "model_module_version": "1.5.0",
          "state": {
            "_dom_classes": [],
            "_model_module": "@jupyter-widgets/controls",
            "_model_module_version": "1.5.0",
            "_model_name": "ImageModel",
            "_view_count": null,
            "_view_module": "@jupyter-widgets/controls",
            "_view_module_version": "1.5.0",
            "_view_name": "ImageView",
            "format": "jpg",
            "height": "",
            "layout": "IPY_MODEL_935931590bda46b7aa74d70a91b6deee",
            "width": ""
          }
        },
        "935931590bda46b7aa74d70a91b6deee": {
          "model_module": "@jupyter-widgets/base",
          "model_name": "LayoutModel",
          "model_module_version": "1.2.0",
          "state": {
            "_model_module": "@jupyter-widgets/base",
            "_model_module_version": "1.2.0",
            "_model_name": "LayoutModel",
            "_view_count": null,
            "_view_module": "@jupyter-widgets/base",
            "_view_module_version": "1.2.0",
            "_view_name": "LayoutView",
            "align_content": null,
            "align_items": null,
            "align_self": null,
            "border": null,
            "bottom": null,
            "display": null,
            "flex": null,
            "flex_flow": null,
            "grid_area": null,
            "grid_auto_columns": null,
            "grid_auto_flow": null,
            "grid_auto_rows": null,
            "grid_column": null,
            "grid_gap": null,
            "grid_row": null,
            "grid_template_areas": null,
            "grid_template_columns": null,
            "grid_template_rows": null,
            "height": null,
            "justify_content": null,
            "justify_items": null,
            "left": null,
            "margin": null,
            "max_height": null,
            "max_width": null,
            "min_height": null,
            "min_width": null,
            "object_fit": null,
            "object_position": null,
            "order": null,
            "overflow": null,
            "overflow_x": null,
            "overflow_y": null,
            "padding": null,
            "right": null,
            "top": null,
            "visibility": null,
            "width": null
          }
        }
      }
    }
  },
  "nbformat": 4,
  "nbformat_minor": 0
}